{
 "cells": [
  {
   "cell_type": "markdown",
   "metadata": {},
   "source": [
    "# Challenge: Feedback analysis\n",
    "\n",
    "Now we'll perform a sentiment analysis, classifying whether feedback left on a website is either positive or negative.\n",
    "\n",
    "Again the UCI Machine Learning database has a nice labeled dataset of sentiment labelled sentences for us to use. This dataset was created for the paper From Group to Individual Labels using Deep Features, Kotzias et. al., KDD 2015.\n",
    "\n",
    "Pick one of the company data files and build your own classifier. When you're satisfied with its performance (at this point just using the accuracy measure shown in the example), test it on one of the other datasets to see how well these kinds of classifiers translate from one context to another.\n",
    "\n",
    "Include your model and a brief writeup of your feature engineering and selection process to submit and review with your mentor."
   ]
  },
  {
   "cell_type": "code",
   "execution_count": 1,
   "metadata": {
    "collapsed": true
   },
   "outputs": [],
   "source": [
    "%matplotlib inline\n",
    "import numpy as np\n",
    "import pandas as pd\n",
    "import scipy\n",
    "import sklearn\n",
    "import matplotlib.pyplot as plt\n",
    "import seaborn as sns"
   ]
  },
  {
   "cell_type": "code",
   "execution_count": 59,
   "metadata": {},
   "outputs": [
    {
     "name": "stdout",
     "output_type": "stream",
     "text": [
      "(748, 2)\n"
     ]
    },
    {
     "data": {
      "text/plain": [
       "0      a very, very, very slow-moving, aimless movie ...\n",
       "1      not sure who was more lost - the flat characte...\n",
       "2      attempting artiness with black & white and cle...\n",
       "3           very little music or anything to speak of.  \n",
       "4      the best scene in the movie was when gerardo i...\n",
       "5      the rest of the movie lacks art, charm, meanin...\n",
       "6                                    wasted two hours.  \n",
       "7      saw the movie today and thought it was a good ...\n",
       "8                                   a bit predictable.  \n",
       "9      loved the casting of jimmy buffet as the scien...\n",
       "10                  and those baby owls were adorable.  \n",
       "11     the movie showed a lot of florida at it's best...\n",
       "12     the songs were the best and the muppets were s...\n",
       "13                                     it was so cool.  \n",
       "14     this is a very \"right on case\" movie that deli...\n",
       "15     it had some average acting from the main perso...\n",
       "16     this review is long overdue, since i consider ...\n",
       "17     i'll put this gem up against any movie in term...\n",
       "18     it's practically perfect in all of them  a tr...\n",
       "19      the structure of this film is easily the most...\n",
       "20     this if the first movie i've given a 10 to in ...\n",
       "21     if there was ever a movie that needed word-of-...\n",
       "22     overall, the film is interesting and thought-p...\n",
       "23     plus, it was well-paced and suited its relativ...\n",
       "24                               give this one a look.  \n",
       "25                                      i gave it a 10  \n",
       "26     the wind and the lion is well written and supe...\n",
       "27                               it is a true classic.  \n",
       "28     it actually turned out to be pretty decent as ...\n",
       "29                      definitely worth checking out.  \n",
       "                             ...                        \n",
       "718    enough can not be said of the remarkable anima...\n",
       "719    the art style has the appearance of crayon/pen...\n",
       "720    if you act in such a film, you should be glad ...\n",
       "721    this one wants to surf on the small wave of sp...\n",
       "722    if you haven't choked in your own vomit by the...\n",
       "723    still, it makes up for all of this with a supe...\n",
       "724    just consider the excellent story, solid actin...\n",
       "725    instead, we got a bore fest about a whiny, spo...\n",
       "726    then i watched it again two sundays ago (march...\n",
       "727         it is a very well acted and done tv movie.  \n",
       "728    judith light is one of my favorite actresses a...\n",
       "729                  i keep watching it over and over.  \n",
       "730                   it's a sad movie, but very good.  \n",
       "731    if you have not seen this movie, i definitely ...\n",
       "732             she is as lovely as usual, this cutie!  \n",
       "733    still it's quite interesting and entertaining ...\n",
       "734                      ;) recommend with confidence!  \n",
       "735    this movie is well-balanced with comedy and dr...\n",
       "736    it was a riot to see hugo weaving play a sex-o...\n",
       "737    :) anyway, the plot flowed smoothly and the ma...\n",
       "738    the opening sequence of this gem is a classic,...\n",
       "739               fans of the genre will be in heaven.  \n",
       "740                  lange had become a great actress.  \n",
       "741                  it looked like a wonderful story.  \n",
       "742              i never walked out of a movie faster.  \n",
       "743    i just got bored watching jessice lange take h...\n",
       "744    unfortunately, any virtue in this film's produ...\n",
       "745                     in a word, it is embarrassing.  \n",
       "746                                 exceptionally bad!  \n",
       "747    all in all its an insult to one's intelligence...\n",
       "Name: Texts, Length: 748, dtype: object"
      ]
     },
     "execution_count": 59,
     "metadata": {},
     "output_type": "execute_result"
    }
   ],
   "source": [
    "imdb = pd.read_csv('C:\\\\Users\\\\User\\\\Documents\\\\Python_scripts\\\\Thinkful\\\\imdb_labelled.txt', sep= '\\t', header=None)\n",
    "print(imdb.shape)\n",
    "\n",
    "# Rename columns and set everything to lower case\n",
    "imdb.rename(columns={0:'Texts', 1:'Positive'}, inplace=True)\n",
    "imdb['Texts'].str.lower()"
   ]
  },
  {
   "cell_type": "code",
   "execution_count": 60,
   "metadata": {},
   "outputs": [
    {
     "name": "stdout",
     "output_type": "stream",
     "text": [
      "(748, 31)\n"
     ]
    }
   ],
   "source": [
    "# A man of few words...\n",
    "goodwords = ['good', 'great', 'beautiful', 'perfect', 'best', 'greatest', 'enjoy', 'laugh',\n",
    "             'funny', 'cry', 'cried', 'action', 'gripping', 'cool', 'like']\n",
    "             \n",
    "badwords = ['not worth', 'not good', 'not great', 'don’t like', 'didn’t like', 'boring', \n",
    "            'don’t recommend', 'average', 'long', 'bad', 'gross',\n",
    "            'waste', 'slow', 'drag']\n",
    "\n",
    "# A column for each word\n",
    "for word in goodwords:\n",
    "    imdb[word] = imdb['Texts'].str.contains(\" \" + word + \" \")\n",
    "\n",
    "for word in badwords:\n",
    "    imdb[word] = imdb['Texts'].str.contains(\" \" + word + \" \")\n",
    "\n",
    "print(imdb.shape)"
   ]
  },
  {
   "cell_type": "code",
   "execution_count": 61,
   "metadata": {},
   "outputs": [
    {
     "data": {
      "image/png": "[encoded data removed]",
      "text/plain": [
       "<matplotlib.figure.Figure at 0x19ae4df2978>"
      ]
     },
     "metadata": {},
     "output_type": "display_data"
    }
   ],
   "source": [
    "sns.heatmap(imdb.corr())\n",
    "plt.show()"
   ]
  },
  {
   "cell_type": "markdown",
   "metadata": {},
   "source": [
    "A couple of correlations, particularly between 'best', 'greatest', 'enjoy' (dropping 'enjoy' probably best way to solve this). Strangly 'gross' is positively correlated with 'beautiful', 'enjoy', and 'best'. 'Waste' is slightly correlated with 'good', 'great' as its arguably picking up the parts of 'not good' and 'not great'?\n",
    "\n",
    "Some negative correlations too, between 'not good', 'not great', 'don't like', and 'didn't like'.\n",
    "\n",
    "Keeping it all for now..."
   ]
  },
  {
   "cell_type": "code",
   "execution_count": 62,
   "metadata": {},
   "outputs": [
    {
     "name": "stdout",
     "output_type": "stream",
     "text": [
      "Number of mislabeled points out of a total 748 points : 318\n"
     ]
    }
   ],
   "source": [
    "# Data is binomial, therefore use Bernoulli\n",
    "from sklearn.naive_bayes import BernoulliNB\n",
    "bnb = BernoulliNB()\n",
    "bnb.fit(imdb.loc[:,'good':'drag'], imdb['Positive'])\n",
    "\n",
    "# Testing prediction against entire dataset\n",
    "y_hat = bnb.predict(imdb.loc[:,'good':'drag'])\n",
    "\n",
    "#Drumroll...\n",
    "print(\"Number of mislabeled points out of a total {} points : {}\".format(\n",
    "    imdb.shape[0],\n",
    "    (imdb['Positive'] != y_hat).sum()))"
   ]
  },
  {
   "cell_type": "markdown",
   "metadata": {},
   "source": [
    "So only slightly better than a coin toss..."
   ]
  },
  {
   "cell_type": "code",
   "execution_count": 66,
   "metadata": {},
   "outputs": [
    {
     "name": "stdout",
     "output_type": "stream",
     "text": [
      "(748, 31)\n",
      "Number of mislabeled points out of a total 748 points : 313\n"
     ]
    }
   ],
   "source": [
    "imdb2 = imdb.loc[:,['Texts', 'Positive']]\n",
    "\n",
    "# Maybe some more words this time\n",
    "\n",
    "goodwords = ['good', 'great', 'beautiful', 'perfect', 'best', 'greatest', 'enjoy', 'laugh',\n",
    "             'funny', 'cry', 'cried', 'action', 'gripping', 'cool', 'like', 'delightfull', \n",
    "            'gem', 'worth', 'classic', 'treat', 'love']\n",
    "             \n",
    "badwords = ['not worth', 'not good', 'not great', 'don’t like', 'didn’t like', 'boring', \n",
    "            'don’t recommend', 'average', 'long', 'bad', 'gross', 'awful',\n",
    "            'slow', 'suck', 'sucked', 'hate','waste', 'drag',]\n",
    "\n",
    "# A column for each word\n",
    "for word in goodwords:\n",
    "    imdb2[word] = imdb2['Texts'].str.contains(\" \" + word + \" \")\n",
    "\n",
    "for word in badwords:\n",
    "    imdb2[word] = imdb2['Texts'].str.contains(\" \" + word + \" \")\n",
    "\n",
    "print(imdb.shape)\n",
    "\n",
    "bnb = BernoulliNB()\n",
    "bnb.fit(imdb2.loc[:,'good':'drag'], imdb['Positive'])\n",
    "\n",
    "# Testing prediction against entire dataset\n",
    "y_hat = bnb.predict(imdb2.loc[:,'good':'drag'])\n",
    "\n",
    "#Drumroll...\n",
    "print(\"Number of mislabeled points out of a total {} points : {}\".format(\n",
    "    imdb2.shape[0],\n",
    "    (imdb2['Positive'] != y_hat).sum()))"
   ]
  },
  {
   "cell_type": "markdown",
   "metadata": {},
   "source": [
    "Marginally better. The way to improve the model would be a more comprehensive list of positive/ negative sentiment words.\n",
    "\n",
    "Next I'll apply it to the Yelp model. This is unlikely to go well - while there may be some overlap in the words, many of them won't be applicable."
   ]
  },
  {
   "cell_type": "code",
   "execution_count": 67,
   "metadata": {},
   "outputs": [
    {
     "name": "stdout",
     "output_type": "stream",
     "text": [
      "(748, 31)\n",
      "Number of mislabeled points out of a total 1000 points : 473\n"
     ]
    }
   ],
   "source": [
    "# Applying the model to another dataset (this is unlikely to go well)\n",
    "\n",
    "yelp = pd.read_csv('C:\\\\Users\\\\User\\\\Documents\\\\Python_scripts\\\\Thinkful\\\\sentiment\\\\yelp_labelled.txt', sep= '\\t', header=None)\n",
    "print(imdb.shape)\n",
    "\n",
    "# Rename columns and set everything to lower case\n",
    "yelp.rename(columns={0:'Texts', 1:'Positive'}, inplace=True)\n",
    "yelp['Texts'].str.lower()\n",
    "\n",
    "for word in goodwords:\n",
    "    yelp[word] = yelp['Texts'].str.contains(\" \" + word + \" \")\n",
    "\n",
    "for word in badwords:\n",
    "    yelp[word] = yelp['Texts'].str.contains(\" \" + word + \" \")\n",
    "\n",
    "y_hat_yelp = bnb.predict(yelp.loc[:,'good':'drag'])\n",
    "\n",
    "print(\"Number of mislabeled points out of a total {} points : {}\".format(\n",
    "    yelp.shape[0],\n",
    "    (yelp['Positive'] != y_hat_yelp).sum()))"
   ]
  },
  {
   "cell_type": "markdown",
   "metadata": {},
   "source": [
    "So a coin toss it is!"
   ]
  },
  {
   "cell_type": "code",
   "execution_count": null,
   "metadata": {
    "collapsed": true
   },
   "outputs": [],
   "source": []
  }
 ],
 "metadata": {
  "kernelspec": {
   "display_name": "Python 3",
   "language": "python",
   "name": "python3"
  },
  "language_info": {
   "codemirror_mode": {
    "name": "ipython",
    "version": 3
   },
   "file_extension": ".py",
   "mimetype": "text/x-python",
   "name": "python",
   "nbconvert_exporter": "python",
   "pygments_lexer": "ipython3",
   "version": "3.6.1"
  }
 },
 "nbformat": 4,
 "nbformat_minor": 2
}
