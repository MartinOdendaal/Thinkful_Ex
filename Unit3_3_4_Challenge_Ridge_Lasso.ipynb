{
 "cells": [
  {
   "cell_type": "markdown",
   "metadata": {},
   "source": [
    "# Challenge\n",
    "\n",
    "Unit 3:3:4\n",
    "\n",
    "Pick a dataset of your choice with a binary outcome and the potential for at least 15 features. If you're drawing a blank, the crime rates in 2013 dataset has a lot of variables that could be made into a modelable binary outcome.\n",
    "\n",
    "Engineer your features, then create three models. Each model will be run on a training set and a test-set (or multiple test-sets, if you take a folds approach). The models should be:\n",
    "\n",
    "- Vanilla logistic regression\n",
    "- Ridge logistic regression\n",
    "- Lasso logistic regression\n",
    "\n",
    "In your report, evaluate all three models and decide on your best. Be clear about the decisions you made that led to these models (feature selection, regularization parameter selection, model evaluation criteria) and why you think that particular model is the best of the three. Also reflect on the strengths and limitations of regression as a modeling approach. Were there things you couldn't do but you wish you could have done?"
   ]
  },
  {
   "cell_type": "markdown",
   "metadata": {},
   "source": [
    "## Data"
   ]
  },
  {
   "cell_type": "markdown",
   "metadata": {},
   "source": [
    "From [Kaggle](https://www.kaggle.com/secareanualin/football-events/data)\n",
    "\n",
    "This dataset is a result of a very tiresome effort of webscraping and integrating different data sources. The central element is the text commentary. All the events were derived by reverse engineering the text commentary, using regex. Using this, I was able to derive 11 types of events, as well as the main player and secondary player involved in those events and many other statistics. In case I've missed extracting some useful information, you are gladly invited to do so and share your findings. The dataset provides a granular view of 9,074 games, totaling 941,009 events from the biggest 5 European football (soccer) leagues: England, Spain, Germany, Italy, France from 2011/2012 season to 2016/2017 season as of 25.01.2017. There are games that have been played during these seasons for which I could not collect detailed data. Overall, over 90% of the played games during these seasons have event data."
   ]
  },
  {
   "cell_type": "code",
   "execution_count": 1,
   "metadata": {},
   "outputs": [
    {
     "name": "stderr",
     "output_type": "stream",
     "text": [
      "C:\\Users\\User\\Anaconda3\\lib\\site-packages\\statsmodels\\compat\\pandas.py:56: FutureWarning: The pandas.core.datetools module is deprecated and will be removed in a future version. Please use the pandas.tseries module instead.\n",
      "  from pandas.core import datetools\n"
     ]
    }
   ],
   "source": [
    "import pandas as pd\n",
    "from matplotlib import pyplot as plt\n",
    "import numpy as np\n",
    "import math\n",
    "import seaborn as sns\n",
    "import sklearn\n",
    "from sklearn import linear_model\n",
    "from sklearn import preprocessing\n",
    "from sklearn import model_selection \n",
    "import statsmodels.api as sm\n",
    "%matplotlib inline\n",
    "sns.set_style('white')"
   ]
  },
  {
   "cell_type": "code",
   "execution_count": 3,
   "metadata": {},
   "outputs": [
    {
     "name": "stdout",
     "output_type": "stream",
     "text": [
      "<class 'pandas.core.frame.DataFrame'>\n",
      "RangeIndex: 941009 entries, 0 to 941008\n",
      "Data columns (total 22 columns):\n",
      "id_odsp          941009 non-null object\n",
      "id_event         941009 non-null object\n",
      "sort_order       941009 non-null int64\n",
      "time             941009 non-null int64\n",
      "text             941009 non-null object\n",
      "event_type       941009 non-null int64\n",
      "event_type2      214293 non-null float64\n",
      "side             941009 non-null int64\n",
      "event_team       941009 non-null object\n",
      "opponent         941009 non-null object\n",
      "player           880009 non-null object\n",
      "player2          291310 non-null object\n",
      "player_in        51715 non-null object\n",
      "player_out       51738 non-null object\n",
      "shot_place       227459 non-null float64\n",
      "shot_outcome     228498 non-null float64\n",
      "is_goal          941009 non-null int64\n",
      "location         467067 non-null float64\n",
      "bodypart         229185 non-null float64\n",
      "assist_method    941009 non-null int64\n",
      "situation        229137 non-null float64\n",
      "fast_break       941009 non-null int64\n",
      "dtypes: float64(6), int64(7), object(9)\n",
      "memory usage: 157.9+ MB\n"
     ]
    }
   ],
   "source": [
    "matches = pd.read_csv('C:\\\\Users\\\\User\\\\Documents\\\\Python_scripts\\\\Thinkful\\\\football-events\\\\events.csv')\n",
    "matches.info()"
   ]
  },
  {
   "cell_type": "markdown",
   "metadata": {},
   "source": [
    "**event_type**\n",
    "0\tAnnouncement\n",
    "1\tAttempt\n",
    "2\tCorner\n",
    "3\tFoul\n",
    "4\tYellow card\n",
    "5\tSecond yellow card\n",
    "6\tRed card\n",
    "7\tSubstitution\n",
    "8\tFree kick won\n",
    "9\tOffside\n",
    "10\tHand ball\n",
    "11\tPenalty conceded\n",
    "\n",
    "**event_type2**\n",
    "12\tKey Pass\n",
    "13\tFailed through ball\n",
    "14\tSending off\n",
    "15\tOwn goal\n",
    "\n",
    "**shot_place**\n",
    "1\tBit too high\n",
    "2\tBlocked\n",
    "3\tBottom left corner\n",
    "4\tBottom right corner\n",
    "5\tCentre of the goal\n",
    "6\tHigh and wide\n",
    "7\tHits the bar\n",
    "8\tMisses to the left\n",
    "9\tMisses to the right\n",
    "10\tToo high\n",
    "11\tTop centre of the goal\n",
    "12\tTop left corner\n",
    "13\tTop right corner\n",
    "\n",
    "**shot_outcome**\n",
    "1\tOn target\n",
    "2\tOff target\n",
    "3\tBlocked\n",
    "4\tHit the bar\n",
    "\n",
    "\n",
    "**location**\n",
    "1\tAttacking half\n",
    "2\tDefensive half\n",
    "3\tCentre of the box\n",
    "4\tLeft wing\n",
    "5\tRight wing\n",
    "6\tDifficult angle and long range\n",
    "7\tDifficult angle on the left\n",
    "8\tDifficult angle on the right\n",
    "9\tLeft side of the box\n",
    "10\tLeft side of the six yard box\n",
    "11\tRight side of the box\n",
    "12\tRight side of the six yard box\n",
    "13\tVery close range\n",
    "14\tPenalty spot\n",
    "15\tOutside the box\n",
    "16\tLong range\n",
    "17\tMore than 35 yards\n",
    "18\tMore than 40 yards\n",
    "19\tNot recorded\n",
    "\n",
    "\n",
    "**bodypart**\n",
    "1\tright foot\n",
    "2\tleft foot\n",
    "3\thead\n",
    "\n",
    "**situation**\n",
    "1\tOpen play\n",
    "2\tSet piece\n",
    "3\tCorner\n",
    "4\tFree kick\n"
   ]
  },
  {
   "cell_type": "code",
   "execution_count": 3,
   "metadata": {},
   "outputs": [
    {
     "data": {
      "text/plain": [
       "8     237932\n",
       "3     232925\n",
       "1     229135\n",
       "2      91204\n",
       "7      51738\n",
       "9      43476\n",
       "4      39911\n",
       "10     10730\n",
       "11      2706\n",
       "6       1152\n",
       "5        100\n",
       "Name: event_type, dtype: int64"
      ]
     },
     "execution_count": 3,
     "metadata": {},
     "output_type": "execute_result"
    }
   ],
   "source": [
    "matches.event_type.value_counts() "
   ]
  },
  {
   "cell_type": "markdown",
   "metadata": {},
   "source": [
    "For this exercise I'm only interested in 1 Attempt (at goal)"
   ]
  },
  {
   "cell_type": "code",
   "execution_count": 35,
   "metadata": {},
   "outputs": [
    {
     "name": "stdout",
     "output_type": "stream",
     "text": [
      "<class 'pandas.core.frame.DataFrame'>\n",
      "Int64Index: 229135 entries, 0 to 941006\n",
      "Data columns (total 7 columns):\n",
      "shot_place       227452 non-null float64\n",
      "is_goal          229135 non-null int64\n",
      "location         229135 non-null float64\n",
      "bodypart         229135 non-null float64\n",
      "assist_method    229135 non-null int64\n",
      "situation        229135 non-null float64\n",
      "fast_break       229135 non-null int64\n",
      "dtypes: float64(4), int64(3)\n",
      "memory usage: 14.0 MB\n"
     ]
    }
   ],
   "source": [
    "# Keeping only attempts at goal, and relevant columns\n",
    "attempt = matches.loc[matches['event_type']==1,'shot_place':'fast_break']\n",
    "attempt.drop('shot_outcome', axis=1, inplace=True)\n",
    "attempt.info()"
   ]
  },
  {
   "cell_type": "code",
   "execution_count": 62,
   "metadata": {},
   "outputs": [
    {
     "data": {
      "text/plain": [
       "0    0.893334\n",
       "1    0.106666\n",
       "Name: is_goal, dtype: float64"
      ]
     },
     "execution_count": 62,
     "metadata": {},
     "output_type": "execute_result"
    }
   ],
   "source": [
    "attempt.is_goal.value_counts(normalize=True)"
   ]
  },
  {
   "cell_type": "code",
   "execution_count": 25,
   "metadata": {},
   "outputs": [
    {
     "data": {
      "text/plain": [
       "<matplotlib.axes._subplots.AxesSubplot at 0x187ce464710>"
      ]
     },
     "execution_count": 25,
     "metadata": {},
     "output_type": "execute_result"
    },
    {
     "data": {
      "image/png": "[encoded data removed]",
      "text/plain": [
       "<matplotlib.figure.Figure at 0x187cdaef4a8>"
      ]
     },
     "metadata": {},
     "output_type": "display_data"
    }
   ],
   "source": [
    "sns.countplot(y='fast_break', hue='is_goal', data=attempt)"
   ]
  },
  {
   "cell_type": "code",
   "execution_count": 23,
   "metadata": {
    "scrolled": true
   },
   "outputs": [
    {
     "data": {
      "text/plain": [
       "<seaborn.axisgrid.FacetGrid at 0x187cdc27518>"
      ]
     },
     "execution_count": 23,
     "metadata": {},
     "output_type": "execute_result"
    },
    {
     "data": {
      "image/png": "[encoded data removed]",
      "text/plain": [
       "<matplotlib.figure.Figure at 0x187cdbf1b00>"
      ]
     },
     "metadata": {},
     "output_type": "display_data"
    }
   ],
   "source": [
    "sns.factorplot(x='situation', col='is_goal', data=attempt, kind='count')"
   ]
  },
  {
   "cell_type": "code",
   "execution_count": 36,
   "metadata": {},
   "outputs": [
    {
     "data": {
      "image/png": "[encoded data removed]",
      "text/plain": [
       "<matplotlib.figure.Figure at 0x17700e5cc50>"
      ]
     },
     "metadata": {},
     "output_type": "display_data"
    }
   ],
   "source": [
    "corrs = attempt.corr()\n",
    "\n",
    "sns.heatmap(corrs)\n",
    "plt.show()"
   ]
  },
  {
   "cell_type": "code",
   "execution_count": 66,
   "metadata": {},
   "outputs": [],
   "source": [
    "#Convert features to category dtype to convert to dummies (fast_break already binary)\n",
    "attempt['shot_place'] = attempt['shot_place'].astype('category')\n",
    "attempt['location'] = attempt['location'].astype('category')\n",
    "attempt['bodypart'] = attempt['bodypart'].astype('category')\n",
    "attempt['assist_method'] = attempt['assist_method'].astype('category')\n",
    "attempt['situation'] = attempt['situation'].astype('category')\n",
    "\n",
    "#Convert to dummies and drop is_goal\n",
    "X = pd.get_dummies(attempt)\n",
    "X.drop('is_goal', axis=1, inplace=True)\n",
    "y = attempt['is_goal']\n",
    "\n",
    "# Remove base categories for dummy variables\n",
    "X_dummy = X.loc[:, ~((X.columns).isin(['shot_place_1.0', 'location_18.0', 'bodypart_3.0',\n",
    "                                 'assist_method_4', 'situation_1.0']))]\n",
    "\n",
    "# Splitting data\n",
    "X_train, X_test, y_train, y_test = model_selection.train_test_split(X_dummy, y)\n"
   ]
  },
  {
   "cell_type": "markdown",
   "metadata": {},
   "source": [
    "## OLS"
   ]
  },
  {
   "cell_type": "code",
   "execution_count": 67,
   "metadata": {},
   "outputs": [
    {
     "name": "stdout",
     "output_type": "stream",
     "text": [
      "Warning: Maximum number of iterations has been exceeded.\n",
      "         Current function value: 0.148773\n",
      "         Iterations: 35\n"
     ]
    },
    {
     "name": "stderr",
     "output_type": "stream",
     "text": [
      "C:\\Users\\User\\Anaconda3\\lib\\site-packages\\statsmodels\\base\\model.py:496: ConvergenceWarning: Maximum Likelihood optimization failed to converge. Check mle_retvals\n",
      "  \"Check mle_retvals\", ConvergenceWarning)\n"
     ]
    },
    {
     "name": "stdout",
     "output_type": "stream",
     "text": [
      "                           Logit Regression Results                           \n",
      "==============================================================================\n",
      "Dep. Variable:                is_goal   No. Observations:               171851\n",
      "Model:                          Logit   Df Residuals:                   171814\n",
      "Method:                           MLE   Df Model:                           36\n",
      "Date:                Wed, 28 Feb 2018   Pseudo R-squ.:                  0.5604\n",
      "Time:                        21:30:41   Log-Likelihood:                -25567.\n",
      "converged:                      False   LL-Null:                       -58153.\n",
      "                                        LLR p-value:                     0.000\n",
      "===================================================================================\n",
      "                      coef    std err          z      P>|z|      [0.025      0.975]\n",
      "-----------------------------------------------------------------------------------\n",
      "fast_break          3.3592      0.090     37.471      0.000       3.184       3.535\n",
      "shot_place_2.0    -13.1362     17.482     -0.751      0.452     -47.401      21.129\n",
      "shot_place_3.0      2.3712      0.057     41.528      0.000       2.259       2.483\n",
      "shot_place_4.0      2.2404      0.057     39.364      0.000       2.129       2.352\n",
      "shot_place_5.0      0.9522      0.057     16.627      0.000       0.840       1.064\n",
      "shot_place_6.0    -18.2489    233.102     -0.078      0.938    -475.120     438.622\n",
      "shot_place_7.0    -27.2212   2.84e+04     -0.001      0.999   -5.57e+04    5.56e+04\n",
      "shot_place_8.0    -21.9168    943.732     -0.023      0.981   -1871.597    1827.763\n",
      "shot_place_9.0    -22.7863   1468.872     -0.016      0.988   -2901.722    2856.149\n",
      "shot_place_10.0   -16.9789     98.929     -0.172      0.864    -210.876     176.918\n",
      "shot_place_11.0   -17.4986    474.855     -0.037      0.971    -948.198     913.201\n",
      "shot_place_12.0     2.0881      0.065     32.142      0.000       1.961       2.215\n",
      "shot_place_13.0     2.1424      0.064     33.251      0.000       2.016       2.269\n",
      "location_3.0        2.6755      0.639      4.188      0.000       1.423       3.928\n",
      "location_6.0        0.1587      0.666      0.238      0.812      -1.147       1.464\n",
      "location_7.0        1.1952      0.646      1.850      0.064      -0.071       2.461\n",
      "location_8.0        1.0889      0.647      1.684      0.092      -0.178       2.356\n",
      "location_9.0        1.2292      0.640      1.921      0.055      -0.025       2.483\n",
      "location_10.0       2.6579      0.642      4.139      0.000       1.399       3.917\n",
      "location_11.0       1.2882      0.640      2.013      0.044       0.034       2.542\n",
      "location_12.0       2.8463      0.642      4.431      0.000       1.587       4.105\n",
      "location_13.0       4.4330      0.640      6.922      0.000       3.178       5.688\n",
      "location_14.0       2.0874      0.645      3.234      0.001       0.823       3.352\n",
      "location_15.0       0.6901      0.639      1.080      0.280      -0.562       1.943\n",
      "location_16.0      -0.1954      0.676     -0.289      0.773      -1.521       1.130\n",
      "location_17.0       0.0137      0.689      0.020      0.984      -1.338       1.365\n",
      "location_19.0       9.4947      0.738     12.862      0.000       8.048      10.942\n",
      "bodypart_1.0        0.9666      0.041     23.595      0.000       0.886       1.047\n",
      "bodypart_2.0        0.9772      0.043     22.505      0.000       0.892       1.062\n",
      "assist_method_0    -0.5466      0.048    -11.392      0.000      -0.641      -0.453\n",
      "assist_method_1    -0.5865      0.043    -13.518      0.000      -0.672      -0.501\n",
      "assist_method_2    -0.6925      0.053    -13.123      0.000      -0.796      -0.589\n",
      "assist_method_3    -0.8854      0.073    -12.092      0.000      -1.029      -0.742\n",
      "situation_2.0       2.3666      0.067     35.221      0.000       2.235       2.498\n",
      "situation_3.0       2.1173      0.053     39.924      0.000       2.013       2.221\n",
      "situation_4.0      -1.9954      0.364     -5.477      0.000      -2.709      -1.281\n",
      "intercept          -5.2685      0.643     -8.192      0.000      -6.529      -4.008\n",
      "===================================================================================\n",
      "\n",
      "Possibly complete quasi-separation: A fraction 0.64 of observations can be\n",
      "perfectly predicted. This might indicate that there is complete\n",
      "quasi-separation. In this case some parameters will not be identified.\n"
     ]
    }
   ],
   "source": [
    "# Use Statsmodels to get unregularized logit model\n",
    "\n",
    "# Reformat data to  beStatsmodel friendly\n",
    "train = X_train.copy()\n",
    "\n",
    "# Manually add intercept... grrrr\n",
    "train['intercept'] = 1\n",
    "\n",
    "# List for patsy formulation\n",
    "#all_columns = \" + \".join(train.columns)\n",
    "#my_formula = \"y ~ \" + all_columns\n",
    "#print(my_formula)\n",
    "\n",
    "# Add back y to create single dataset\n",
    "#train['y'] = y_train\n",
    "\n",
    "lgt = sm.Logit(y_train, train)\n",
    "results  = lgt.fit()\n",
    "print(results.summary())"
   ]
  },
  {
   "cell_type": "code",
   "execution_count": 71,
   "metadata": {},
   "outputs": [],
   "source": [
    "# Adding intercept again\n",
    "X_test_intercept = X_test.copy()\n",
    "X_test_intercept['intercept'] = 1\n",
    "\n",
    "y_hat = results.predict(X_test_intercept)\n",
    "#accuracy = lgt.score(y_test, X_test_intercept)"
   ]
  },
  {
   "cell_type": "code",
   "execution_count": 80,
   "metadata": {
    "scrolled": true
   },
   "outputs": [
    {
     "name": "stdout",
     "output_type": "stream",
     "text": [
      "is_goal      0     1\n",
      "row_0               \n",
      "0        49694  2460\n",
      "1         1391  3739\n",
      "Accuracy is:  0.932773549333\n"
     ]
    }
   ],
   "source": [
    "# Threshold of .5\n",
    "threshold = np.where(y_hat>0.5,1,0)\n",
    "cross = pd.crosstab(threshold, y_test)\n",
    "print(cross)\n",
    "acc = (cross[0][0]+cross[1][1])/len(y_hat)\n",
    "print('Accuracy is: ', acc) "
   ]
  },
  {
   "cell_type": "markdown",
   "metadata": {},
   "source": [
    "The model struggles with convergence. Luckily Ridge and Lasso were partly designed to fix this!\n",
    "\n",
    "The model has high accuracy, but is not a particularly strong predictor given that 89% of the shots were not goals.\n",
    "\n",
    "But first a more sensible model with some of the dummies drop (e.g. you can't score a goal if your shot_place was 1, 2, 6, 7, 8, 9, 10)"
   ]
  },
  {
   "cell_type": "code",
   "execution_count": 43,
   "metadata": {},
   "outputs": [
    {
     "name": "stdout",
     "output_type": "stream",
     "text": [
      "Warning: Maximum number of iterations has been exceeded.\n",
      "         Current function value: 0.161227\n",
      "         Iterations: 35\n"
     ]
    },
    {
     "name": "stderr",
     "output_type": "stream",
     "text": [
      "C:\\Users\\User\\Anaconda3\\lib\\site-packages\\statsmodels\\base\\model.py:496: ConvergenceWarning: Maximum Likelihood optimization failed to converge. Check mle_retvals\n",
      "  \"Check mle_retvals\", ConvergenceWarning)\n"
     ]
    },
    {
     "name": "stdout",
     "output_type": "stream",
     "text": [
      "                           Logit Regression Results                           \n",
      "==============================================================================\n",
      "Dep. Variable:                is_goal   No. Observations:               171851\n",
      "Model:                          Logit   Df Residuals:                   171820\n",
      "Method:                           MLE   Df Model:                           30\n",
      "Date:                Wed, 28 Feb 2018   Pseudo R-squ.:                  0.5271\n",
      "Time:                        17:20:23   Log-Likelihood:                -27707.\n",
      "converged:                      False   LL-Null:                       -58592.\n",
      "                                        LLR p-value:                     0.000\n",
      "===================================================================================\n",
      "                      coef    std err          z      P>|z|      [0.025      0.975]\n",
      "-----------------------------------------------------------------------------------\n",
      "fast_break          3.1800      0.072     43.960      0.000       3.038       3.322\n",
      "shot_place_3.0      5.3121      0.051    104.959      0.000       5.213       5.411\n",
      "shot_place_4.0      5.2017      0.050    103.201      0.000       5.103       5.301\n",
      "shot_place_5.0      3.9241      0.051     77.607      0.000       3.825       4.023\n",
      "shot_place_11.0   -15.6243    816.099     -0.019      0.985   -1615.149    1583.901\n",
      "shot_place_12.0     5.0315      0.060     84.396      0.000       4.915       5.148\n",
      "shot_place_13.0     5.0937      0.059     86.604      0.000       4.978       5.209\n",
      "location_3.0        2.3983      0.601      3.992      0.000       1.221       3.576\n",
      "location_6.0       -0.1127      0.632     -0.178      0.858      -1.351       1.126\n",
      "location_7.0        1.0141      0.608      1.669      0.095      -0.177       2.205\n",
      "location_8.0        0.9174      0.609      1.508      0.132      -0.275       2.110\n",
      "location_9.0        0.9020      0.602      1.499      0.134      -0.278       2.082\n",
      "location_10.0       2.4564      0.604      4.065      0.000       1.272       3.641\n",
      "location_11.0       1.0320      0.602      1.715      0.086      -0.147       2.212\n",
      "location_12.0       2.6017      0.604      4.306      0.000       1.418       3.786\n",
      "location_13.0       4.2491      0.602      7.054      0.000       3.069       5.430\n",
      "location_14.0       1.9133      0.607      3.150      0.002       0.723       3.104\n",
      "location_15.0       0.4395      0.601      0.731      0.465      -0.738       1.617\n",
      "location_16.0      -0.1066      0.632     -0.169      0.866      -1.346       1.133\n",
      "location_17.0      -0.2181      0.651     -0.335      0.738      -1.494       1.058\n",
      "location_19.0      11.9262      0.714     16.712      0.000      10.527      13.325\n",
      "bodypart_1.0        0.8854      0.040     22.281      0.000       0.807       0.963\n",
      "bodypart_2.0        0.8757      0.042     20.762      0.000       0.793       0.958\n",
      "assist_method_0    -0.5252      0.047    -11.079      0.000      -0.618      -0.432\n",
      "assist_method_1    -0.5736      0.043    -13.306      0.000      -0.658      -0.489\n",
      "assist_method_2    -0.7009      0.052    -13.427      0.000      -0.803      -0.599\n",
      "assist_method_3    -0.8106      0.071    -11.353      0.000      -0.951      -0.671\n",
      "situation_2.0       2.3666      0.062     38.333      0.000       2.246       2.488\n",
      "situation_3.0       2.1659      0.050     43.111      0.000       2.067       2.264\n",
      "situation_4.0      -2.7210      0.535     -5.088      0.000      -3.769      -1.673\n",
      "intercept          -7.8958      0.605    -13.048      0.000      -9.082      -6.710\n",
      "===================================================================================\n"
     ]
    }
   ],
   "source": [
    "# Remove extra variable for intercept (shot_place5.0 centre of goal)\n",
    "train_small = train.loc[:, ~((train.columns).isin(['shot_place_1.0', 'shot_place_2.0', 'shot_place_6.0',\n",
    "                                                   'shot_place_7.0', 'shot_place_8.0', 'shot_place_9.0',\n",
    "                                                   'shot_place_10.0']))]\n",
    "\n",
    "lgt = sm.Logit(y_train, train_small)\n",
    "results  = lgt.fit()\n",
    "print(results.summary())"
   ]
  },
  {
   "cell_type": "markdown",
   "metadata": {},
   "source": [
    "## Ridge"
   ]
  },
  {
   "cell_type": "code",
   "execution_count": 46,
   "metadata": {},
   "outputs": [
    {
     "name": "stdout",
     "output_type": "stream",
     "text": [
      "{'C': 1.0, 'class_weight': None, 'dual': False, 'fit_intercept': True, 'intercept_scaling': 1, 'max_iter': 100, 'multi_class': 'ovr', 'n_jobs': 1, 'penalty': 'l2', 'random_state': None, 'solver': 'liblinear', 'tol': 0.0001, 'verbose': 0, 'warm_start': False}\n",
      "0.933384152551\n",
      "0.933838419105\n"
     ]
    }
   ],
   "source": [
    "# SKLearn already has penalty\n",
    "ols = linear_model.LogisticRegression()\n",
    "ols.fit(X_train, y_train)\n",
    "r2_train = ols.score(X_train, y_train)\n",
    "params = ols.get_params()\n",
    "print(params)\n",
    "print(r2_train)\n",
    "\n",
    "#Back to sklearn\n",
    "r2_test = ols.score(X_test, y_test)\n",
    "print(r2_test)\n"
   ]
  },
  {
   "cell_type": "code",
   "execution_count": 87,
   "metadata": {},
   "outputs": [
    {
     "name": "stdout",
     "output_type": "stream",
     "text": [
      "{'C': 1.0, 'class_weight': None, 'dual': False, 'fit_intercept': True, 'intercept_scaling': 1, 'max_iter': 100, 'multi_class': 'ovr', 'n_jobs': 1, 'penalty': 'l2', 'random_state': None, 'solver': 'liblinear', 'tol': 0.0001, 'verbose': 0, 'warm_start': False}\n",
      "0.933721654224\n",
      "0.933262342015\n"
     ]
    }
   ],
   "source": [
    "# Preprocessing\n",
    "prepX = pd.DataFrame(preprocessing.scale(X_dummy), columns=X_dummy.columns)\n",
    "\n",
    "# Splitting data\n",
    "prepX_train, prepX_test, prepy_train, prepy_test = model_selection.train_test_split(X_dummy, y)\n",
    "\n",
    "# SKLearn already has penalty\n",
    "ols = linear_model.LogisticRegression()\n",
    "ols.fit(prepX_train, prepy_train)\n",
    "r2_train = ols.score(prepX_train, prepy_train)\n",
    "params = ols.get_params()\n",
    "print(params)\n",
    "print(r2_train)\n",
    "\n",
    "#Back to sklearn\n",
    "r2_test = ols.score(prepX_test, prepy_test)\n",
    "print(r2_test)"
   ]
  },
  {
   "cell_type": "markdown",
   "metadata": {},
   "source": [
    "## Lasso"
   ]
  },
  {
   "cell_type": "code",
   "execution_count": 61,
   "metadata": {},
   "outputs": [
    {
     "name": "stdout",
     "output_type": "stream",
     "text": [
      "{'C': 1.0, 'class_weight': None, 'dual': False, 'fit_intercept': False, 'intercept_scaling': 1, 'max_iter': 100, 'multi_class': 'ovr', 'n_jobs': 1, 'penalty': 'l1', 'random_state': None, 'solver': 'liblinear', 'tol': 0.0001, 'verbose': 0, 'warm_start': False}\n",
      "0.932959365962\n",
      "0.933279798897\n"
     ]
    }
   ],
   "source": [
    "# SKLearn already has penalty\n",
    "# Run with no intercept (all dummies included)\n",
    "ols = linear_model.LogisticRegression(penalty='l1', fit_intercept=False)\n",
    "ols.fit(X_train, y_train)\n",
    "r2_train = ols.score(X_train, y_train)\n",
    "params = ols.get_params()\n",
    "print(params)\n",
    "print(r2_train)\n",
    "\n",
    "#Back to sklearn\n",
    "r2_test = ols.score(X_test, y_test)\n",
    "print(r2_test)"
   ]
  },
  {
   "cell_type": "code",
   "execution_count": 60,
   "metadata": {},
   "outputs": [
    {
     "name": "stdout",
     "output_type": "stream",
     "text": [
      "['fast_break', 3.2439900643530564]\n",
      "['shot_place_2.0', -5.6384406882584113]\n",
      "['shot_place_3.0', 2.4103182518504433]\n",
      "['shot_place_4.0', 2.265995301665666]\n",
      "['shot_place_5.0', 0.99821756249148719]\n",
      "['shot_place_6.0', -5.5586950542596227]\n",
      "['shot_place_7.0', -4.9897927534496427]\n",
      "['shot_place_8.0', -6.2903032925827214]\n",
      "['shot_place_9.0', -6.2722307356146842]\n",
      "['shot_place_10.0', -5.9347997095034133]\n",
      "['shot_place_11.0', -3.8120666096242042]\n",
      "['shot_place_12.0', 2.0699107434966635]\n",
      "['shot_place_13.0', 2.1822340559550759]\n",
      "['location_3.0', 0.90340729112884333]\n",
      "['location_6.0', -1.6288167631364276]\n",
      "['location_7.0', -0.46484028875614936]\n",
      "['location_8.0', -0.73349931490082432]\n",
      "['location_9.0', -0.58684183405021195]\n",
      "['location_10.0', 0.96954852184321716]\n",
      "['location_11.0', -0.46255811269642905]\n",
      "['location_12.0', 1.1218513572787718]\n",
      "['location_13.0', 2.62193924059682]\n",
      "['location_14.0', 0.26458266234061933]\n",
      "['location_15.0', -1.0682362591950028]\n",
      "['location_16.0', -1.7147297641440302]\n",
      "['location_17.0', -1.7877854208096768]\n",
      "['location_19.0', 7.2038901475059944]\n",
      "['bodypart_1.0', 0.97440322925158784]\n",
      "['bodypart_2.0', 0.96284433097499611]\n",
      "['assist_method_0', -0.52069121556010611]\n",
      "['assist_method_1', -0.57372753914613084]\n",
      "['assist_method_2', -0.69097449432958413]\n",
      "['assist_method_3', -0.85000214958918585]\n",
      "['situation_2.0', 2.3747306911376045]\n",
      "['situation_3.0', 2.1085124984898562]\n",
      "['situation_4.0', -1.5561090501849768]\n"
     ]
    }
   ],
   "source": [
    "features = list(X_train.columns)\n",
    "coefs = list(ols.coef_.ravel())\n",
    "table = zip(features, coefs)\n",
    "for tab in table:\n",
    "    print(list(tab))"
   ]
  },
  {
   "cell_type": "code",
   "execution_count": 82,
   "metadata": {},
   "outputs": [
    {
     "name": "stdout",
     "output_type": "stream",
     "text": [
      "Optimization terminated successfully.    (Exit mode 0)\n",
      "            Current function value: 0.14877268772728358\n",
      "            Iterations: 295\n",
      "            Function evaluations: 295\n",
      "            Gradient evaluations: 295\n",
      "                           Logit Regression Results                           \n",
      "==============================================================================\n",
      "Dep. Variable:                is_goal   No. Observations:               171851\n",
      "Model:                          Logit   Df Residuals:                   171814\n",
      "Method:                           MLE   Df Model:                           36\n",
      "Date:                Wed, 28 Feb 2018   Pseudo R-squ.:                  0.5604\n",
      "Time:                        21:46:57   Log-Likelihood:                -25567.\n",
      "converged:                       True   LL-Null:                       -58153.\n",
      "                                        LLR p-value:                     0.000\n",
      "===================================================================================\n",
      "                      coef    std err          z      P>|z|      [0.025      0.975]\n",
      "-----------------------------------------------------------------------------------\n",
      "fast_break          3.3593      0.090     37.471      0.000       3.184       3.535\n",
      "shot_place_2.0    -23.3475   2883.665     -0.008      0.994   -5675.227    5628.532\n",
      "shot_place_3.0      2.3712      0.057     41.528      0.000       2.259       2.483\n",
      "shot_place_4.0      2.2404      0.057     39.364      0.000       2.129       2.352\n",
      "shot_place_5.0      0.9522      0.057     16.627      0.000       0.840       1.064\n",
      "shot_place_6.0    -20.3347    661.417     -0.031      0.975   -1316.688    1276.018\n",
      "shot_place_7.0    -21.7866   1875.227     -0.012      0.991   -3697.164    3653.591\n",
      "shot_place_8.0    -21.3757    720.025     -0.030      0.976   -1432.600    1389.848\n",
      "shot_place_9.0    -21.3569    718.795     -0.030      0.976   -1430.169    1387.455\n",
      "shot_place_10.0   -21.1107    780.770     -0.027      0.978   -1551.391    1509.170\n",
      "shot_place_11.0   -15.3757    164.274     -0.094      0.925    -337.346     306.595\n",
      "shot_place_12.0     2.0881      0.065     32.142      0.000       1.961       2.215\n",
      "shot_place_13.0     2.1425      0.064     33.251      0.000       2.016       2.269\n",
      "location_3.0        2.6769      0.639      4.188      0.000       1.424       3.930\n",
      "location_6.0        0.1598      0.666      0.240      0.810      -1.146       1.466\n",
      "location_7.0        1.1966      0.646      1.852      0.064      -0.070       2.463\n",
      "location_8.0        1.0902      0.647      1.685      0.092      -0.178       2.358\n",
      "location_9.0        1.2305      0.640      1.922      0.055      -0.024       2.485\n",
      "location_10.0       2.6593      0.643      4.139      0.000       1.400       3.919\n",
      "location_11.0       1.2896      0.640      2.014      0.044       0.035       2.544\n",
      "location_12.0       2.8476      0.643      4.431      0.000       1.588       4.107\n",
      "location_13.0       4.4344      0.641      6.921      0.000       3.179       5.690\n",
      "location_14.0       2.0888      0.646      3.235      0.001       0.823       3.354\n",
      "location_15.0       0.6915      0.639      1.081      0.279      -0.562       1.945\n",
      "location_16.0      -0.1936      0.677     -0.286      0.775      -1.520       1.133\n",
      "location_17.0       0.0149      0.690      0.022      0.983      -1.337       1.367\n",
      "location_19.0       9.4965      0.739     12.859      0.000       8.049      10.944\n",
      "bodypart_1.0        0.9666      0.041     23.595      0.000       0.886       1.047\n",
      "bodypart_2.0        0.9772      0.043     22.506      0.000       0.892       1.062\n",
      "assist_method_0    -0.5465      0.048    -11.392      0.000      -0.641      -0.453\n",
      "assist_method_1    -0.5865      0.043    -13.517      0.000      -0.672      -0.501\n",
      "assist_method_2    -0.6924      0.053    -13.122      0.000      -0.796      -0.589\n",
      "assist_method_3    -0.8853      0.073    -12.091      0.000      -1.029      -0.742\n",
      "situation_2.0       2.3666      0.067     35.221      0.000       2.235       2.498\n",
      "situation_3.0       2.1173      0.053     39.924      0.000       2.013       2.221\n",
      "situation_4.0      -1.9953      0.364     -5.477      0.000      -2.709      -1.281\n",
      "intercept          -5.2699      0.643     -8.190      0.000      -6.531      -4.009\n",
      "===================================================================================\n",
      "\n",
      "Possibly complete quasi-separation: A fraction 0.64 of observations can be\n",
      "perfectly predicted. This might indicate that there is complete\n",
      "quasi-separation. In this case some parameters will not be identified.\n"
     ]
    }
   ],
   "source": [
    "# Ridge in statsmodel to see output\n",
    "\n",
    "lgt = sm.Logit(y_train, train)\n",
    "results  = lgt.fit_regularized(method='l1')\n",
    "print(results.summary())"
   ]
  },
  {
   "cell_type": "code",
   "execution_count": 83,
   "metadata": {},
   "outputs": [
    {
     "name": "stdout",
     "output_type": "stream",
     "text": [
      "is_goal      0     1\n",
      "row_0               \n",
      "0        49694  2460\n",
      "1         1391  3739\n",
      "Accuracy is:  0.932773549333\n"
     ]
    }
   ],
   "source": [
    "y_hat = results.predict(X_test_intercept)\n",
    "#accuracy = lgt.score(y_test, X_test_intercept)\n",
    "# Threshold of .5\n",
    "threshold = np.where(y_hat>0.5,1,0)\n",
    "cross = pd.crosstab(threshold, y_test)\n",
    "print(cross)\n",
    "acc = (cross[0][0]+cross[1][1])/len(y_hat)\n",
    "print('Accuracy is: ', acc) "
   ]
  },
  {
   "cell_type": "markdown",
   "metadata": {},
   "source": [
    "## Conclusion\n",
    "\n",
    "The logit model did not converge and therefore would not be a stable model to use. However, the ridge and lasso models were much more efficient in finding a solution. With the ridge there is some loss in interpretation (sklearn's output isn't particularly useful). While the Lasso model took less time, it had the exact same predictive power as the logit. This may be as the features do no exhibit high collinearity (which the Lasso model can correct)."
   ]
  },
  {
   "cell_type": "code",
   "execution_count": null,
   "metadata": {
    "collapsed": true
   },
   "outputs": [],
   "source": []
  }
 ],
 "metadata": {
  "kernelspec": {
   "display_name": "Python 3",
   "language": "python",
   "name": "python3"
  },
  "language_info": {
   "codemirror_mode": {
    "name": "ipython",
    "version": 3
   },
   "file_extension": ".py",
   "mimetype": "text/x-python",
   "name": "python",
   "nbconvert_exporter": "python",
   "pygments_lexer": "ipython3",
   "version": "3.6.1"
  }
 },
 "nbformat": 4,
 "nbformat_minor": 2
}
