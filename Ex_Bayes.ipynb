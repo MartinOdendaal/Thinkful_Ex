{
 "cells": [
  {
   "cell_type": "markdown",
   "metadata": {},
   "source": [
    "# Drill - Exercises in Bayes' Rule\n",
    "\n",
    "** Unit 3 / Lesson 2 / Project 6 **\n",
    "\n",
    "A diagnostic test has a 98% probability of giving a positive result when applied to a person suffering from Thripshaw's Disease, and 10% probability of giving a (false) positive when applied to a non-sufferer. It is estimated that 0.5 % of the population are sufferers. Suppose that the test is now administered to a person whose disease status is unknown. Calculate the probability that the test will:\n",
    "\n",
    " - Be positive\n",
    " - Correctly diagnose a sufferer of Thripshaw's\n",
    " - Correctly identify a non-sufferer of Thripshaw's\n",
    " - Misclassify the person\n",
    " \n",
    "First look over the numbers and estimate each of the four probabilities, using your intuition. "
   ]
  },
  {
   "cell_type": "markdown",
   "metadata": {},
   "source": [
    "Assume 1000 people\n",
    "5 infected\n",
    "\n",
    "      Actual condition\n",
    "               True     False\n",
    "    Pred  P    5*0.98   995*0.1\n",
    "    Pred  F    5*0.02   995*0.9     \n"
   ]
  },
  {
   "cell_type": "code",
   "execution_count": 49,
   "metadata": {},
   "outputs": [
    {
     "name": "stdout",
     "output_type": "stream",
     "text": [
      "Be positive: 0.1044\n"
     ]
    }
   ],
   "source": [
    "Pos = (0.1*0.995 + 0.98*0.005)\n",
    "print(\"Be positive: \"+ str(round(Pos,4)))"
   ]
  },
  {
   "cell_type": "code",
   "execution_count": 51,
   "metadata": {},
   "outputs": [
    {
     "name": "stdout",
     "output_type": "stream",
     "text": [
      "Correctly diagnose a sufferer of Thripshaw's: 98.0%\n"
     ]
    }
   ],
   "source": [
    "CorT = 5*0.98/(5*0.98 + 5*0.02)*100\n",
    "print(\"Correctly diagnose a sufferer of Thripshaw's: \" + str(round(CorT,2)) + \"%\")"
   ]
  },
  {
   "cell_type": "code",
   "execution_count": 52,
   "metadata": {},
   "outputs": [
    {
     "name": "stdout",
     "output_type": "stream",
     "text": [
      "Correctly identify a non-sufferer of Thripshaw's: 90.0%\n"
     ]
    }
   ],
   "source": [
    "CorNT = 995*0.9/(995*0.1 + 995*0.9)*100\n",
    "print(\"Correctly identify a non-sufferer of Thripshaw's: \" + str(round(CorNT,2)) + \"%\")"
   ]
  },
  {
   "cell_type": "code",
   "execution_count": 22,
   "metadata": {},
   "outputs": [
    {
     "name": "stdout",
     "output_type": "stream",
     "text": [
      "Misclassify the person: 9.96%\n"
     ]
    }
   ],
   "source": [
    "Missed = (5*0.02+995*0.1)/(5*0.98 + 995*0.1 + 5*0.02 + 995*0.9)*100\n",
    "print(\"Misclassify the person: \" + str(round(Missed,2)) + \"%\")"
   ]
  },
  {
   "cell_type": "markdown",
   "metadata": {},
   "source": [
    "## Using Bayes' Rule:\n",
    "\n",
    " - Be positive\n",
    "\n",
    "P(Positive) = (0.1*0.995 + 0.98*0.005)\n",
    "       = 0.1044\n",
    "\n",
    " - Correctly diagnose a sufferer of Thripshaw's\n",
    "\n",
    "P(Positive | Thirp) = P(Thrip | Pos)* P(Pos)/P(Thrip) \n",
    "               \n",
    " - Correctly identify a non-sufferer of Thripshaw's\n",
    "\n",
    "P(Neg | Not Thrip) = P(Not Thrip | Neg)* P(Neg) / P(Not Thrip)\n",
    "\n",
    "Misclassify the person"
   ]
  },
  {
   "cell_type": "code",
   "execution_count": 40,
   "metadata": {},
   "outputs": [],
   "source": [
    "Prob_Pos = (0.1*0.995 + 0.98*0.005)\n",
    "Prob_Thrip = 0.005\n",
    "Prob_Neg = (0.9*0.995 + 0.02*0.005)\n",
    "Prob_Not_Thrip = 0.995\n",
    "Prob_Pos_if_Thrip = (0.005*0.98/(0.005*0.98 + 0.995*0.1))*Prob_Pos / Prob_Thrip\n",
    "Prob_Neg_ifnot_Thrip = (0.9*0.995/(0.995*0.9 + 0.02*0.005))*Prob_Neg / Prob_Not_Thrip\n",
    "Prob_Misclassify = (5*0.02+995*0.1)/(5*0.98 + 995*0.1 + 5*0.02 + 995*0.9)"
   ]
  },
  {
   "cell_type": "code",
   "execution_count": 41,
   "metadata": {},
   "outputs": [
    {
     "data": {
      "text/plain": [
       "0.98"
      ]
     },
     "execution_count": 41,
     "metadata": {},
     "output_type": "execute_result"
    }
   ],
   "source": [
    "Prob_Pos_if_Thrip"
   ]
  },
  {
   "cell_type": "code",
   "execution_count": 42,
   "metadata": {},
   "outputs": [
    {
     "data": {
      "text/plain": [
       "0.8999999999999999"
      ]
     },
     "execution_count": 42,
     "metadata": {},
     "output_type": "execute_result"
    }
   ],
   "source": [
    "Prob_Neg_ifnot_Thrip"
   ]
  },
  {
   "cell_type": "code",
   "execution_count": 39,
   "metadata": {},
   "outputs": [
    {
     "data": {
      "text/plain": [
       "0.0996"
      ]
     },
     "execution_count": 39,
     "metadata": {},
     "output_type": "execute_result"
    }
   ],
   "source": [
    "Prob_Misclassify"
   ]
  },
  {
   "cell_type": "code",
   "execution_count": null,
   "metadata": {
    "collapsed": true
   },
   "outputs": [],
   "source": []
  }
 ],
 "metadata": {
  "kernelspec": {
   "display_name": "Python 3",
   "language": "python",
   "name": "python3"
  },
  "language_info": {
   "codemirror_mode": {
    "name": "ipython",
    "version": 3
   },
   "file_extension": ".py",
   "mimetype": "text/x-python",
   "name": "python",
   "nbconvert_exporter": "python",
   "pygments_lexer": "ipython3",
   "version": "3.6.1"
  }
 },
 "nbformat": 4,
 "nbformat_minor": 2
}
