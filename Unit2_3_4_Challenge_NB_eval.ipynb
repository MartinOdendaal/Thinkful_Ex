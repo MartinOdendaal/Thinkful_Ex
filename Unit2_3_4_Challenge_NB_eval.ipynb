{
 "cells": [
  {
   "cell_type": "markdown",
   "metadata": {},
   "source": [
    "# Challenge: Iterate and evaluate your classifier\n",
    "\n",
    "It's time to revisit your classifier from the previous assignment. Using the evaluation techniques we've covered here, look at your classifier's performance in more detail. Then go back and iterate by engineering new features, removing poor features, or tuning parameters. Repeat this process until you have five different versions of your classifier. Once you've iterated, answer these questions to compare the performance of each:\n",
    "\n",
    "- Do any of your classifiers seem to overfit?\n",
    "- Which seem to perform the best? Why?\n",
    "- What features seemed to be most impactful to performance?"
   ]
  },
  {
   "cell_type": "code",
   "execution_count": 2,
   "metadata": {
    "collapsed": true
   },
   "outputs": [],
   "source": [
    "%matplotlib inline\n",
    "import numpy as np\n",
    "import pandas as pd\n",
    "import scipy\n",
    "import sklearn\n",
    "import matplotlib.pyplot as plt\n",
    "import seaborn as sns"
   ]
  },
  {
   "cell_type": "markdown",
   "metadata": {},
   "source": [
    "# A first attempt"
   ]
  },
  {
   "cell_type": "code",
   "execution_count": 47,
   "metadata": {},
   "outputs": [
    {
     "name": "stdout",
     "output_type": "stream",
     "text": [
      "(748, 2)\n"
     ]
    }
   ],
   "source": [
    "imdb = pd.read_csv('C:\\\\Users\\\\User\\\\Documents\\\\Python_scripts\\\\Thinkful\\\\imdb_labelled.txt', sep= '\\t', header=None)\n",
    "print(imdb.shape)\n",
    "\n",
    "# Rename columns and set everything to lower case\n",
    "imdb.rename(columns={0:'Texts', 1:'Positive'}, inplace=True)\n",
    "imdb['Texts'] = imdb['Texts'].str.lower()\n",
    "\n",
    "# Copies of original imdb dataset for later\n",
    "imdb2 = imdb\n",
    "imdb3 = imdb"
   ]
  },
  {
   "cell_type": "code",
   "execution_count": 48,
   "metadata": {},
   "outputs": [
    {
     "data": {
      "text/html": [
       "<div>\n",
       "<style>\n",
       "    .dataframe thead tr:only-child th {\n",
       "        text-align: right;\n",
       "    }\n",
       "\n",
       "    .dataframe thead th {\n",
       "        text-align: left;\n",
       "    }\n",
       "\n",
       "    .dataframe tbody tr th {\n",
       "        vertical-align: top;\n",
       "    }\n",
       "</style>\n",
       "<table border=\"1\" class=\"dataframe\">\n",
       "  <thead>\n",
       "    <tr style=\"text-align: right;\">\n",
       "      <th></th>\n",
       "      <th>Texts</th>\n",
       "      <th>Positive</th>\n",
       "    </tr>\n",
       "  </thead>\n",
       "  <tbody>\n",
       "    <tr>\n",
       "      <th>0</th>\n",
       "      <td>a very, very, very slow-moving, aimless movie ...</td>\n",
       "      <td>0</td>\n",
       "    </tr>\n",
       "    <tr>\n",
       "      <th>1</th>\n",
       "      <td>not sure who was more lost - the flat characte...</td>\n",
       "      <td>0</td>\n",
       "    </tr>\n",
       "    <tr>\n",
       "      <th>2</th>\n",
       "      <td>attempting artiness with black &amp; white and cle...</td>\n",
       "      <td>0</td>\n",
       "    </tr>\n",
       "    <tr>\n",
       "      <th>3</th>\n",
       "      <td>very little music or anything to speak of.</td>\n",
       "      <td>0</td>\n",
       "    </tr>\n",
       "    <tr>\n",
       "      <th>4</th>\n",
       "      <td>the best scene in the movie was when gerardo i...</td>\n",
       "      <td>1</td>\n",
       "    </tr>\n",
       "  </tbody>\n",
       "</table>\n",
       "</div>"
      ],
      "text/plain": [
       "                                               Texts  Positive\n",
       "0  a very, very, very slow-moving, aimless movie ...         0\n",
       "1  not sure who was more lost - the flat characte...         0\n",
       "2  attempting artiness with black & white and cle...         0\n",
       "3       very little music or anything to speak of.           0\n",
       "4  the best scene in the movie was when gerardo i...         1"
      ]
     },
     "execution_count": 48,
     "metadata": {},
     "output_type": "execute_result"
    }
   ],
   "source": [
    "imdb.head()"
   ]
  },
  {
   "cell_type": "code",
   "execution_count": 49,
   "metadata": {},
   "outputs": [
    {
     "name": "stdout",
     "output_type": "stream",
     "text": [
      "(748, 31)\n"
     ]
    }
   ],
   "source": [
    "# A man of few words...\n",
    "goodwords = ['good', 'great', 'beautiful', 'perfect', 'best', 'greatest', 'enjoy', 'laugh',\n",
    "             'funny', 'cry', 'cried', 'action', 'gripping', 'cool', 'like']\n",
    "             \n",
    "badwords = ['not worth', 'not good', 'not great', 'don’t like', 'didn’t like', 'boring', \n",
    "            'don’t recommend', 'average', 'long', 'bad', 'gross',\n",
    "            'waste', 'slow', 'drag']\n",
    "\n",
    "\n",
    "# A column for each word\n",
    "for word in goodwords:\n",
    "    imdb[word] = imdb['Texts'].str.contains(\" \" + word + \" \")\n",
    "\n",
    "for word in badwords:\n",
    "    imdb[word] = imdb['Texts'].str.contains(\" \" + word + \" \")\n",
    "\n",
    "print(imdb.shape)"
   ]
  },
  {
   "cell_type": "code",
   "execution_count": 50,
   "metadata": {},
   "outputs": [
    {
     "data": {
      "image/png": "[encoded data removed]",
      "text/plain": [
       "<matplotlib.figure.Figure at 0x1f207b97978>"
      ]
     },
     "metadata": {},
     "output_type": "display_data"
    }
   ],
   "source": [
    "sns.heatmap(imdb.corr())\n",
    "plt.show()"
   ]
  },
  {
   "cell_type": "markdown",
   "metadata": {},
   "source": [
    "A couple of correlations, particularly between 'best', 'greatest', 'enjoy' (dropping 'enjoy' probably best way to solve this). Strangly 'gross' is positively correlated with 'beautiful', 'enjoy', and 'best'. 'Waste' is slightly correlated with 'good', 'great' as its arguably picking up the parts of 'not good' and 'not great'?\n",
    "\n",
    "Some negative correlations too, between 'not good', 'not great', 'don't like', and 'didn't like'.\n",
    "\n",
    "Keeping it all for now..."
   ]
  },
  {
   "cell_type": "code",
   "execution_count": 51,
   "metadata": {},
   "outputs": [
    {
     "name": "stdout",
     "output_type": "stream",
     "text": [
      "Number of mislabeled points out of a total 748 points : 316\n",
      "0.896551724138\n",
      "0.550724637681\n"
     ]
    }
   ],
   "source": [
    "# Data is binomial, therefore use Bernoulli\n",
    "from sklearn.naive_bayes import BernoulliNB\n",
    "bnb = BernoulliNB()\n",
    "bnb.fit(imdb.loc[:,'good':'drag'], imdb['Positive'])\n",
    "\n",
    "# Testing prediction against entire dataset\n",
    "y_hat = bnb.predict(imdb.loc[:,'good':'drag'])\n",
    "\n",
    "#Drumroll... The model is \n",
    "print(\"Number of mislabeled points out of a total {} points : {}\".format(\n",
    "    imdb.shape[0],\n",
    "    (imdb['Positive'] != y_hat).sum()))\n",
    "\n",
    "from sklearn.metrics import confusion_matrix\n",
    "confused = confusion_matrix(imdb['Positive'], y_hat)\n",
    "TP = confused[0][0]\n",
    "FP = confused[0][1]\n",
    "FN = confused[1][0]\n",
    "TN = confused[1][1]\n",
    "\n",
    "sensitive = TP/(TP+FN)\n",
    "specificity = TN/(TN+FP)\n",
    "print(sensitive)\n",
    "print(specificity)"
   ]
  },
  {
   "cell_type": "markdown",
   "metadata": {},
   "source": [
    "...only slightly better than a coin toss. High on sensitivity (but this is because dominant strategy just to call Ham for everything). Low on specificity."
   ]
  },
  {
   "cell_type": "markdown",
   "metadata": {},
   "source": [
    "# Slightly more words"
   ]
  },
  {
   "cell_type": "code",
   "execution_count": 52,
   "metadata": {},
   "outputs": [
    {
     "name": "stdout",
     "output_type": "stream",
     "text": [
      "(748, 41)\n",
      "Number of mislabeled points out of a total 748 points : 316\n",
      "0.896551724138\n",
      "0.550724637681\n"
     ]
    }
   ],
   "source": [
    "# Maybe some more words this time\n",
    "\n",
    "goodwords = ['good', 'great', 'beautiful', 'perfect', 'best', 'greatest', 'enjoy', 'laugh',\n",
    "             'funny', 'cry', 'cried', 'action', 'gripping', 'cool', 'like', 'delightfull', \n",
    "            'gem', 'worth', 'classic', 'treat', 'love']\n",
    "             \n",
    "badwords = ['not worth', 'not good', 'not great', 'don’t like', 'didn’t like', 'boring', \n",
    "            'don’t recommend', 'average', 'long', 'bad', 'gross', 'awful',\n",
    "            'slow', 'suck', 'sucked', 'hate','waste', 'drag']\n",
    "\n",
    "# A column for each word\n",
    "for word in goodwords:\n",
    "    imdb2[word] = imdb2['Texts'].str.contains(\" \" + word + \" \")\n",
    "\n",
    "for word in badwords:\n",
    "    imdb2[word] = imdb2['Texts'].str.contains(\" \" + word + \" \")\n",
    "\n",
    "print(imdb.shape)\n",
    "\n",
    "bnb = BernoulliNB()\n",
    "bnb.fit(imdb2.loc[:,'good':'drag'], imdb2['Positive'])\n",
    "\n",
    "# Testing prediction against entire dataset\n",
    "y_hat = bnb.predict(imdb2.loc[:,'good':'drag'])\n",
    "\n",
    "#Drumroll...\n",
    "print(\"Number of mislabeled points out of a total {} points : {}\".format(\n",
    "    imdb2.shape[0],\n",
    "    (imdb2['Positive'] != y_hat).sum()))\n",
    "\n",
    "confused = confusion_matrix(imdb2['Positive'], y_hat)\n",
    "\n",
    "TP = confused[0][0]\n",
    "FP = confused[0][1]\n",
    "FN = confused[1][0]\n",
    "TN = confused[1][1]\n",
    "\n",
    "sensitive = TP/(TP+FN)\n",
    "specificity = TN/(TN+FP)\n",
    "print(sensitive)\n",
    "print(specificity)"
   ]
  },
  {
   "cell_type": "markdown",
   "metadata": {},
   "source": [
    "That did not improve matters at all."
   ]
  },
  {
   "cell_type": "markdown",
   "metadata": {},
   "source": [
    "## Throwing the dictionary at it"
   ]
  },
  {
   "cell_type": "code",
   "execution_count": 53,
   "metadata": {},
   "outputs": [
    {
     "name": "stdout",
     "output_type": "stream",
     "text": [
      "(2006, 1)\n"
     ]
    }
   ],
   "source": [
    "# Going for overfit by loading positive, negative sentiment lists\n",
    "\n",
    "positivelist = pd.read_csv('positive-words.txt', sep='\\n', comment=';')\n",
    "print(positivelist.shape)"
   ]
  },
  {
   "cell_type": "code",
   "execution_count": 46,
   "metadata": {},
   "outputs": [
    {
     "data": {
      "text/html": [
       "<div>\n",
       "<style>\n",
       "    .dataframe thead tr:only-child th {\n",
       "        text-align: right;\n",
       "    }\n",
       "\n",
       "    .dataframe thead th {\n",
       "        text-align: left;\n",
       "    }\n",
       "\n",
       "    .dataframe tbody tr th {\n",
       "        vertical-align: top;\n",
       "    }\n",
       "</style>\n",
       "<table border=\"1\" class=\"dataframe\">\n",
       "  <thead>\n",
       "    <tr style=\"text-align: right;\">\n",
       "      <th></th>\n",
       "      <th>a+</th>\n",
       "    </tr>\n",
       "  </thead>\n",
       "  <tbody>\n",
       "    <tr>\n",
       "      <th>0</th>\n",
       "      <td>abound</td>\n",
       "    </tr>\n",
       "    <tr>\n",
       "      <th>1</th>\n",
       "      <td>abounds</td>\n",
       "    </tr>\n",
       "    <tr>\n",
       "      <th>2</th>\n",
       "      <td>abundance</td>\n",
       "    </tr>\n",
       "    <tr>\n",
       "      <th>3</th>\n",
       "      <td>abundant</td>\n",
       "    </tr>\n",
       "    <tr>\n",
       "      <th>4</th>\n",
       "      <td>accessable</td>\n",
       "    </tr>\n",
       "  </tbody>\n",
       "</table>\n",
       "</div>"
      ],
      "text/plain": [
       "           a+\n",
       "0      abound\n",
       "1     abounds\n",
       "2   abundance\n",
       "3    abundant\n",
       "4  accessable"
      ]
     },
     "execution_count": 46,
     "metadata": {},
     "output_type": "execute_result"
    }
   ],
   "source": [
    "positivelist.head()"
   ]
  },
  {
   "cell_type": "code",
   "execution_count": 54,
   "metadata": {},
   "outputs": [
    {
     "name": "stdout",
     "output_type": "stream",
     "text": [
      "Number of mislabeled points out of a total 748 points : 159\n",
      "0.713684210526\n",
      "0.915750915751\n"
     ]
    }
   ],
   "source": [
    "# Creating lots of columns on imdb3 (copy of original)\n",
    "wordlist = positivelist['a+']\n",
    "\n",
    "for word in wordlist:\n",
    "    imdb3[word] = imdb3['Texts'].str.contains(\" \" + word + \" \")\n",
    "\n",
    "\n",
    "# Skipping the check on correlation (2000*2000 matrix isn't going to be useful anyway)\n",
    "\n",
    "\n",
    "#Setting up the model\n",
    "bnb = BernoulliNB()\n",
    "bnb.fit(imdb3.iloc[:,2:], imdb3['Positive'])\n",
    "\n",
    "# Testing prediction against entire dataset\n",
    "y_hat = bnb.predict(imdb3.iloc[:, 2:])\n",
    "\n",
    "#Drumroll...\n",
    "print(\"Number of mislabeled points out of a total {} points : {}\".format(\n",
    "    imdb3.shape[0],\n",
    "    (imdb3['Positive'] != y_hat).sum()))\n",
    "\n",
    "confused = confusion_matrix(imdb3['Positive'], y_hat)\n",
    "\n",
    "TP = confused[0][0]\n",
    "FP = confused[0][1]\n",
    "FN = confused[1][0]\n",
    "TN = confused[1][1]\n",
    "\n",
    "sensitive = TP/(TP+FN)\n",
    "specificity = TN/(TN+FP)\n",
    "print(sensitive)\n",
    "print(specificity)"
   ]
  },
  {
   "cell_type": "markdown",
   "metadata": {},
   "source": [
    "Okay, 3 of this is enough me-thinks. Also avoiding doing cross-validation and sample splitting."
   ]
  },
  {
   "cell_type": "markdown",
   "metadata": {},
   "source": [
    "# So to answer the question\n",
    "\n",
    "- Do any of your classifiers seem to overfit?\n",
    "\n",
    "Yes, it is likely that the final model was overfitting (only 700-odd observations and 2000 features!). It is also likely that the independence assumption is violated for this model. \n",
    "\n",
    "- Which seem to perform the best? Why?\n",
    "\n",
    "Final model, but that's cause I included just about every positive word available in English.\n",
    "\n",
    "- What features seemed to be most impactful to performance?\n",
    "\n",
    "Picking words which actually relate to movie descriptions.\n"
   ]
  },
  {
   "cell_type": "code",
   "execution_count": null,
   "metadata": {
    "collapsed": true
   },
   "outputs": [],
   "source": []
  }
 ],
 "metadata": {
  "kernelspec": {
   "display_name": "Python 3",
   "language": "python",
   "name": "python3"
  },
  "language_info": {
   "codemirror_mode": {
    "name": "ipython",
    "version": 3
   },
   "file_extension": ".py",
   "mimetype": "text/x-python",
   "name": "python",
   "nbconvert_exporter": "python",
   "pygments_lexer": "ipython3",
   "version": "3.6.1"
  }
 },
 "nbformat": 4,
 "nbformat_minor": 2
}
