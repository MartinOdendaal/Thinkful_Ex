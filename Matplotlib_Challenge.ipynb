{
 "cells": [
  {
   "cell_type": "markdown",
   "metadata": {},
   "source": [
    "# Challenge - What Do You See?\n",
    "\n",
    "Unit 2/ Lesson 2/ Project 4\n",
    "\n",
    "Pick a data source from this aggregation, load the data into a pandas data frame, and generate a series of visuals around that data using pyplot.\n",
    "\n",
    "Each visualization should be accompanied by 2-3 sentences describing what you think is revealed by this representation. Generate at least four different visuals, and be sure to use different types as well as the subplot functionality discussed above. And remember: clean and elegant visuals are key to telling a coherent story."
   ]
  },
  {
   "cell_type": "markdown",
   "metadata": {},
   "source": [
    "Data source: UN data <br> \n",
    "[Link](http://data.un.org/Data.aspx?d=SDGs&f=series%3aSI_POV_DAY1)"
   ]
  },
  {
   "cell_type": "markdown",
   "metadata": {},
   "source": [
    "## Proportion of population below the international poverty line of US$1.90 per day "
   ]
  },
  {
   "cell_type": "markdown",
   "metadata": {},
   "source": [
    "This project will investigate trends in global poverty rates.\n",
    "\n",
    "1) The first graphs show the trends global incidence of poverty.\n",
    "\n",
    "2) The second graph shows variation by gender.\n",
    "\n",
    "3) Finally, I will select some countries to show how the global average masks local variations."
   ]
  },
  {
   "cell_type": "markdown",
   "metadata": {},
   "source": [
    "### Setting up the data"
   ]
  },
  {
   "cell_type": "code",
   "execution_count": 1,
   "metadata": {
    "collapsed": true
   },
   "outputs": [],
   "source": [
    "import matplotlib.pyplot as plt\n",
    "import pandas as pd\n",
    "import numpy as np\n",
    "%matplotlib inline"
   ]
  },
  {
   "cell_type": "code",
   "execution_count": 2,
   "metadata": {
    "collapsed": true
   },
   "outputs": [],
   "source": [
    "un = pd.read_csv('UNdata.csv')"
   ]
  },
  {
   "cell_type": "code",
   "execution_count": 4,
   "metadata": {},
   "outputs": [
    {
     "data": {
      "text/html": [
       "<div>\n",
       "<style>\n",
       "    .dataframe thead tr:only-child th {\n",
       "        text-align: right;\n",
       "    }\n",
       "\n",
       "    .dataframe thead th {\n",
       "        text-align: left;\n",
       "    }\n",
       "\n",
       "    .dataframe tbody tr th {\n",
       "        vertical-align: top;\n",
       "    }\n",
       "</style>\n",
       "<table border=\"1\" class=\"dataframe\">\n",
       "  <thead>\n",
       "    <tr style=\"text-align: right;\">\n",
       "      <th></th>\n",
       "      <th>Reference Area</th>\n",
       "      <th>Time Period</th>\n",
       "      <th>Sex</th>\n",
       "      <th>Age group</th>\n",
       "      <th>Unit of measurement</th>\n",
       "      <th>Nature</th>\n",
       "      <th>Value</th>\n",
       "    </tr>\n",
       "  </thead>\n",
       "  <tbody>\n",
       "    <tr>\n",
       "      <th>0</th>\n",
       "      <td>World (SDG-MDG)</td>\n",
       "      <td>2016</td>\n",
       "      <td>Female</td>\n",
       "      <td>15 - 24</td>\n",
       "      <td>Percent</td>\n",
       "      <td>Modeled</td>\n",
       "      <td>15.18</td>\n",
       "    </tr>\n",
       "    <tr>\n",
       "      <th>1</th>\n",
       "      <td>World (SDG-MDG)</td>\n",
       "      <td>2016</td>\n",
       "      <td>Female</td>\n",
       "      <td>15+</td>\n",
       "      <td>Percent</td>\n",
       "      <td>Modeled</td>\n",
       "      <td>9.93</td>\n",
       "    </tr>\n",
       "    <tr>\n",
       "      <th>2</th>\n",
       "      <td>World (SDG-MDG)</td>\n",
       "      <td>2016</td>\n",
       "      <td>Female</td>\n",
       "      <td>25+</td>\n",
       "      <td>Percent</td>\n",
       "      <td>Modeled</td>\n",
       "      <td>9.05</td>\n",
       "    </tr>\n",
       "    <tr>\n",
       "      <th>3</th>\n",
       "      <td>World (SDG-MDG)</td>\n",
       "      <td>2016</td>\n",
       "      <td>Male</td>\n",
       "      <td>15 - 24</td>\n",
       "      <td>Percent</td>\n",
       "      <td>Modeled</td>\n",
       "      <td>15.04</td>\n",
       "    </tr>\n",
       "    <tr>\n",
       "      <th>4</th>\n",
       "      <td>World (SDG-MDG)</td>\n",
       "      <td>2016</td>\n",
       "      <td>Male</td>\n",
       "      <td>15+</td>\n",
       "      <td>Percent</td>\n",
       "      <td>Modeled</td>\n",
       "      <td>9.84</td>\n",
       "    </tr>\n",
       "  </tbody>\n",
       "</table>\n",
       "</div>"
      ],
      "text/plain": [
       "    Reference Area  Time Period     Sex Age group Unit of measurement  \\\n",
       "0  World (SDG-MDG)         2016  Female   15 - 24             Percent   \n",
       "1  World (SDG-MDG)         2016  Female       15+             Percent   \n",
       "2  World (SDG-MDG)         2016  Female       25+             Percent   \n",
       "3  World (SDG-MDG)         2016    Male   15 - 24             Percent   \n",
       "4  World (SDG-MDG)         2016    Male       15+             Percent   \n",
       "\n",
       "    Nature  Value  \n",
       "0  Modeled  15.18  \n",
       "1  Modeled   9.93  \n",
       "2  Modeled   9.05  \n",
       "3  Modeled  15.04  \n",
       "4  Modeled   9.84  "
      ]
     },
     "execution_count": 4,
     "metadata": {},
     "output_type": "execute_result"
    }
   ],
   "source": [
    "un.head()"
   ]
  },
  {
   "cell_type": "code",
   "execution_count": 5,
   "metadata": {},
   "outputs": [
    {
     "name": "stdout",
     "output_type": "stream",
     "text": [
      "<class 'pandas.core.frame.DataFrame'>\n",
      "RangeIndex: 26469 entries, 0 to 26468\n",
      "Data columns (total 7 columns):\n",
      "Reference Area         26469 non-null object\n",
      "Time Period            26469 non-null int64\n",
      "Sex                    26469 non-null object\n",
      "Age group              26469 non-null object\n",
      "Unit of measurement    26469 non-null object\n",
      "Nature                 26469 non-null object\n",
      "Value                  26469 non-null float64\n",
      "dtypes: float64(1), int64(1), object(5)\n",
      "memory usage: 1.4+ MB\n"
     ]
    }
   ],
   "source": [
    "un.info()"
   ]
  },
  {
   "cell_type": "markdown",
   "metadata": {},
   "source": [
    "Time period, Sex, Age group are factors.\n",
    "\n",
    "Time period is an int from 2000 - 2016\n",
    "Sex is male, female, and total\n",
    "Age group is 15+, 25+, and 15-24"
   ]
  },
  {
   "cell_type": "code",
   "execution_count": 19,
   "metadata": {},
   "outputs": [
    {
     "data": {
      "text/html": [
       "<div>\n",
       "<style>\n",
       "    .dataframe thead tr:only-child th {\n",
       "        text-align: right;\n",
       "    }\n",
       "\n",
       "    .dataframe thead th {\n",
       "        text-align: left;\n",
       "    }\n",
       "\n",
       "    .dataframe tbody tr th {\n",
       "        vertical-align: top;\n",
       "    }\n",
       "</style>\n",
       "<table border=\"1\" class=\"dataframe\">\n",
       "  <thead>\n",
       "    <tr style=\"text-align: right;\">\n",
       "      <th></th>\n",
       "      <th>Reference Area</th>\n",
       "      <th>Time Period</th>\n",
       "      <th>Sex</th>\n",
       "      <th>Age group</th>\n",
       "      <th>Unit of measurement</th>\n",
       "      <th>Nature</th>\n",
       "      <th>Value</th>\n",
       "    </tr>\n",
       "  </thead>\n",
       "  <tbody>\n",
       "    <tr>\n",
       "      <th>0</th>\n",
       "      <td>World (SDG-MDG)</td>\n",
       "      <td>2016</td>\n",
       "      <td>Female</td>\n",
       "      <td>15 - 24</td>\n",
       "      <td>Percent</td>\n",
       "      <td>Modeled</td>\n",
       "      <td>15.18</td>\n",
       "    </tr>\n",
       "    <tr>\n",
       "      <th>1</th>\n",
       "      <td>World (SDG-MDG)</td>\n",
       "      <td>2016</td>\n",
       "      <td>Female</td>\n",
       "      <td>15+</td>\n",
       "      <td>Percent</td>\n",
       "      <td>Modeled</td>\n",
       "      <td>9.93</td>\n",
       "    </tr>\n",
       "    <tr>\n",
       "      <th>2</th>\n",
       "      <td>World (SDG-MDG)</td>\n",
       "      <td>2016</td>\n",
       "      <td>Female</td>\n",
       "      <td>25+</td>\n",
       "      <td>Percent</td>\n",
       "      <td>Modeled</td>\n",
       "      <td>9.05</td>\n",
       "    </tr>\n",
       "    <tr>\n",
       "      <th>3</th>\n",
       "      <td>World (SDG-MDG)</td>\n",
       "      <td>2016</td>\n",
       "      <td>Male</td>\n",
       "      <td>15 - 24</td>\n",
       "      <td>Percent</td>\n",
       "      <td>Modeled</td>\n",
       "      <td>15.04</td>\n",
       "    </tr>\n",
       "    <tr>\n",
       "      <th>4</th>\n",
       "      <td>World (SDG-MDG)</td>\n",
       "      <td>2016</td>\n",
       "      <td>Male</td>\n",
       "      <td>15+</td>\n",
       "      <td>Percent</td>\n",
       "      <td>Modeled</td>\n",
       "      <td>9.84</td>\n",
       "    </tr>\n",
       "  </tbody>\n",
       "</table>\n",
       "</div>"
      ],
      "text/plain": [
       "    Reference Area  Time Period     Sex Age group Unit of measurement  \\\n",
       "0  World (SDG-MDG)         2016  Female   15 - 24             Percent   \n",
       "1  World (SDG-MDG)         2016  Female       15+             Percent   \n",
       "2  World (SDG-MDG)         2016  Female       25+             Percent   \n",
       "3  World (SDG-MDG)         2016    Male   15 - 24             Percent   \n",
       "4  World (SDG-MDG)         2016    Male       15+             Percent   \n",
       "\n",
       "    Nature  Value  \n",
       "0  Modeled  15.18  \n",
       "1  Modeled   9.93  \n",
       "2  Modeled   9.05  \n",
       "3  Modeled  15.04  \n",
       "4  Modeled   9.84  "
      ]
     },
     "execution_count": 19,
     "metadata": {},
     "output_type": "execute_result"
    }
   ],
   "source": [
    "un.head()"
   ]
  },
  {
   "cell_type": "code",
   "execution_count": 6,
   "metadata": {},
   "outputs": [
    {
     "data": {
      "text/plain": [
       "pandas.core.series.Series"
      ]
     },
     "execution_count": 6,
     "metadata": {},
     "output_type": "execute_result"
    }
   ],
   "source": [
    "type(un['Time Period'])"
   ]
  },
  {
   "cell_type": "code",
   "execution_count": 7,
   "metadata": {},
   "outputs": [
    {
     "data": {
      "text/plain": [
       "array([2016, 2016, 2016, ..., 2000, 2000, 2000], dtype=int64)"
      ]
     },
     "execution_count": 7,
     "metadata": {},
     "output_type": "execute_result"
    }
   ],
   "source": [
    "periods = un['Time Period']\n",
    "test = periods.get_values()\n",
    "test"
   ]
  },
  {
   "cell_type": "markdown",
   "metadata": {},
   "source": [
    "Reference Area = World (SDG-MDG)\n",
    "un['Age group']='25+'\n",
    "un['Sex']=='Total'\n"
   ]
  },
  {
   "cell_type": "code",
   "execution_count": 8,
   "metadata": {},
   "outputs": [
    {
     "data": {
      "text/html": [
       "<div>\n",
       "<style>\n",
       "    .dataframe thead tr:only-child th {\n",
       "        text-align: right;\n",
       "    }\n",
       "\n",
       "    .dataframe thead th {\n",
       "        text-align: left;\n",
       "    }\n",
       "\n",
       "    .dataframe tbody tr th {\n",
       "        vertical-align: top;\n",
       "    }\n",
       "</style>\n",
       "<table border=\"1\" class=\"dataframe\">\n",
       "  <thead>\n",
       "    <tr style=\"text-align: right;\">\n",
       "      <th></th>\n",
       "      <th>Reference Area</th>\n",
       "      <th>Time Period</th>\n",
       "      <th>Sex</th>\n",
       "      <th>Age group</th>\n",
       "      <th>Unit of measurement</th>\n",
       "      <th>Nature</th>\n",
       "      <th>Value</th>\n",
       "    </tr>\n",
       "  </thead>\n",
       "  <tbody>\n",
       "    <tr>\n",
       "      <th>0</th>\n",
       "      <td>World (SDG-MDG)</td>\n",
       "      <td>2016</td>\n",
       "      <td>Female</td>\n",
       "      <td>15 - 24</td>\n",
       "      <td>Percent</td>\n",
       "      <td>Modeled</td>\n",
       "      <td>15.18</td>\n",
       "    </tr>\n",
       "    <tr>\n",
       "      <th>1</th>\n",
       "      <td>World (SDG-MDG)</td>\n",
       "      <td>2016</td>\n",
       "      <td>Female</td>\n",
       "      <td>15+</td>\n",
       "      <td>Percent</td>\n",
       "      <td>Modeled</td>\n",
       "      <td>9.93</td>\n",
       "    </tr>\n",
       "    <tr>\n",
       "      <th>2</th>\n",
       "      <td>World (SDG-MDG)</td>\n",
       "      <td>2016</td>\n",
       "      <td>Female</td>\n",
       "      <td>25+</td>\n",
       "      <td>Percent</td>\n",
       "      <td>Modeled</td>\n",
       "      <td>9.05</td>\n",
       "    </tr>\n",
       "    <tr>\n",
       "      <th>3</th>\n",
       "      <td>World (SDG-MDG)</td>\n",
       "      <td>2016</td>\n",
       "      <td>Male</td>\n",
       "      <td>15 - 24</td>\n",
       "      <td>Percent</td>\n",
       "      <td>Modeled</td>\n",
       "      <td>15.04</td>\n",
       "    </tr>\n",
       "    <tr>\n",
       "      <th>4</th>\n",
       "      <td>World (SDG-MDG)</td>\n",
       "      <td>2016</td>\n",
       "      <td>Male</td>\n",
       "      <td>15+</td>\n",
       "      <td>Percent</td>\n",
       "      <td>Modeled</td>\n",
       "      <td>9.84</td>\n",
       "    </tr>\n",
       "  </tbody>\n",
       "</table>\n",
       "</div>"
      ],
      "text/plain": [
       "    Reference Area  Time Period     Sex Age group Unit of measurement  \\\n",
       "0  World (SDG-MDG)         2016  Female   15 - 24             Percent   \n",
       "1  World (SDG-MDG)         2016  Female       15+             Percent   \n",
       "2  World (SDG-MDG)         2016  Female       25+             Percent   \n",
       "3  World (SDG-MDG)         2016    Male   15 - 24             Percent   \n",
       "4  World (SDG-MDG)         2016    Male       15+             Percent   \n",
       "\n",
       "    Nature  Value  \n",
       "0  Modeled  15.18  \n",
       "1  Modeled   9.93  \n",
       "2  Modeled   9.05  \n",
       "3  Modeled  15.04  \n",
       "4  Modeled   9.84  "
      ]
     },
     "execution_count": 8,
     "metadata": {},
     "output_type": "execute_result"
    }
   ],
   "source": [
    "un.head()"
   ]
  },
  {
   "cell_type": "code",
   "execution_count": 9,
   "metadata": {},
   "outputs": [
    {
     "data": {
      "text/html": [
       "<div>\n",
       "<style>\n",
       "    .dataframe thead tr:only-child th {\n",
       "        text-align: right;\n",
       "    }\n",
       "\n",
       "    .dataframe thead th {\n",
       "        text-align: left;\n",
       "    }\n",
       "\n",
       "    .dataframe tbody tr th {\n",
       "        vertical-align: top;\n",
       "    }\n",
       "</style>\n",
       "<table border=\"1\" class=\"dataframe\">\n",
       "  <thead>\n",
       "    <tr style=\"text-align: right;\">\n",
       "      <th></th>\n",
       "      <th>Reference Area</th>\n",
       "      <th>Time Period</th>\n",
       "      <th>Sex</th>\n",
       "      <th>Age group</th>\n",
       "      <th>Unit of measurement</th>\n",
       "      <th>Nature</th>\n",
       "      <th>Value</th>\n",
       "    </tr>\n",
       "  </thead>\n",
       "  <tbody>\n",
       "    <tr>\n",
       "      <th>0</th>\n",
       "      <td>World (SDG-MDG)</td>\n",
       "      <td>2016</td>\n",
       "      <td>Female</td>\n",
       "      <td>15 - 24</td>\n",
       "      <td>Percent</td>\n",
       "      <td>Modeled</td>\n",
       "      <td>15.18</td>\n",
       "    </tr>\n",
       "    <tr>\n",
       "      <th>1</th>\n",
       "      <td>World (SDG-MDG)</td>\n",
       "      <td>2016</td>\n",
       "      <td>Female</td>\n",
       "      <td>15+</td>\n",
       "      <td>Percent</td>\n",
       "      <td>Modeled</td>\n",
       "      <td>9.93</td>\n",
       "    </tr>\n",
       "    <tr>\n",
       "      <th>2</th>\n",
       "      <td>World (SDG-MDG)</td>\n",
       "      <td>2016</td>\n",
       "      <td>Female</td>\n",
       "      <td>25+</td>\n",
       "      <td>Percent</td>\n",
       "      <td>Modeled</td>\n",
       "      <td>9.05</td>\n",
       "    </tr>\n",
       "    <tr>\n",
       "      <th>3</th>\n",
       "      <td>World (SDG-MDG)</td>\n",
       "      <td>2016</td>\n",
       "      <td>Male</td>\n",
       "      <td>15 - 24</td>\n",
       "      <td>Percent</td>\n",
       "      <td>Modeled</td>\n",
       "      <td>15.04</td>\n",
       "    </tr>\n",
       "    <tr>\n",
       "      <th>4</th>\n",
       "      <td>World (SDG-MDG)</td>\n",
       "      <td>2016</td>\n",
       "      <td>Male</td>\n",
       "      <td>15+</td>\n",
       "      <td>Percent</td>\n",
       "      <td>Modeled</td>\n",
       "      <td>9.84</td>\n",
       "    </tr>\n",
       "    <tr>\n",
       "      <th>5</th>\n",
       "      <td>World (SDG-MDG)</td>\n",
       "      <td>2016</td>\n",
       "      <td>Male</td>\n",
       "      <td>25+</td>\n",
       "      <td>Percent</td>\n",
       "      <td>Modeled</td>\n",
       "      <td>8.95</td>\n",
       "    </tr>\n",
       "    <tr>\n",
       "      <th>6</th>\n",
       "      <td>World (SDG-MDG)</td>\n",
       "      <td>2016</td>\n",
       "      <td>Total</td>\n",
       "      <td>15 - 24</td>\n",
       "      <td>Percent</td>\n",
       "      <td>Modeled</td>\n",
       "      <td>15.10</td>\n",
       "    </tr>\n",
       "    <tr>\n",
       "      <th>7</th>\n",
       "      <td>World (SDG-MDG)</td>\n",
       "      <td>2016</td>\n",
       "      <td>Total</td>\n",
       "      <td>15+</td>\n",
       "      <td>Percent</td>\n",
       "      <td>Modeled</td>\n",
       "      <td>9.87</td>\n",
       "    </tr>\n",
       "    <tr>\n",
       "      <th>8</th>\n",
       "      <td>World (SDG-MDG)</td>\n",
       "      <td>2016</td>\n",
       "      <td>Total</td>\n",
       "      <td>25+</td>\n",
       "      <td>Percent</td>\n",
       "      <td>Modeled</td>\n",
       "      <td>8.99</td>\n",
       "    </tr>\n",
       "    <tr>\n",
       "      <th>9</th>\n",
       "      <td>World (SDG-MDG)</td>\n",
       "      <td>2015</td>\n",
       "      <td>Female</td>\n",
       "      <td>15 - 24</td>\n",
       "      <td>Percent</td>\n",
       "      <td>Modeled</td>\n",
       "      <td>15.54</td>\n",
       "    </tr>\n",
       "  </tbody>\n",
       "</table>\n",
       "</div>"
      ],
      "text/plain": [
       "    Reference Area  Time Period     Sex Age group Unit of measurement  \\\n",
       "0  World (SDG-MDG)         2016  Female   15 - 24             Percent   \n",
       "1  World (SDG-MDG)         2016  Female       15+             Percent   \n",
       "2  World (SDG-MDG)         2016  Female       25+             Percent   \n",
       "3  World (SDG-MDG)         2016    Male   15 - 24             Percent   \n",
       "4  World (SDG-MDG)         2016    Male       15+             Percent   \n",
       "5  World (SDG-MDG)         2016    Male       25+             Percent   \n",
       "6  World (SDG-MDG)         2016   Total   15 - 24             Percent   \n",
       "7  World (SDG-MDG)         2016   Total       15+             Percent   \n",
       "8  World (SDG-MDG)         2016   Total       25+             Percent   \n",
       "9  World (SDG-MDG)         2015  Female   15 - 24             Percent   \n",
       "\n",
       "    Nature  Value  \n",
       "0  Modeled  15.18  \n",
       "1  Modeled   9.93  \n",
       "2  Modeled   9.05  \n",
       "3  Modeled  15.04  \n",
       "4  Modeled   9.84  \n",
       "5  Modeled   8.95  \n",
       "6  Modeled  15.10  \n",
       "7  Modeled   9.87  \n",
       "8  Modeled   8.99  \n",
       "9  Modeled  15.54  "
      ]
     },
     "execution_count": 9,
     "metadata": {},
     "output_type": "execute_result"
    }
   ],
   "source": [
    "world = un[un['Reference Area'] == 'World (SDG-MDG)']\n",
    "world.head(10)"
   ]
  },
  {
   "cell_type": "code",
   "execution_count": 11,
   "metadata": {},
   "outputs": [
    {
     "data": {
      "text/html": [
       "<div>\n",
       "<style>\n",
       "    .dataframe thead tr:only-child th {\n",
       "        text-align: right;\n",
       "    }\n",
       "\n",
       "    .dataframe thead th {\n",
       "        text-align: left;\n",
       "    }\n",
       "\n",
       "    .dataframe tbody tr th {\n",
       "        vertical-align: top;\n",
       "    }\n",
       "</style>\n",
       "<table border=\"1\" class=\"dataframe\">\n",
       "  <thead>\n",
       "    <tr style=\"text-align: right;\">\n",
       "      <th></th>\n",
       "      <th>Reference Area</th>\n",
       "      <th>Time Period</th>\n",
       "      <th>Sex</th>\n",
       "      <th>Age group</th>\n",
       "      <th>Unit of measurement</th>\n",
       "      <th>Nature</th>\n",
       "      <th>Value</th>\n",
       "    </tr>\n",
       "  </thead>\n",
       "  <tbody>\n",
       "    <tr>\n",
       "      <th>8</th>\n",
       "      <td>World (SDG-MDG)</td>\n",
       "      <td>2016</td>\n",
       "      <td>Total</td>\n",
       "      <td>25+</td>\n",
       "      <td>Percent</td>\n",
       "      <td>Modeled</td>\n",
       "      <td>8.99</td>\n",
       "    </tr>\n",
       "    <tr>\n",
       "      <th>17</th>\n",
       "      <td>World (SDG-MDG)</td>\n",
       "      <td>2015</td>\n",
       "      <td>Total</td>\n",
       "      <td>25+</td>\n",
       "      <td>Percent</td>\n",
       "      <td>Modeled</td>\n",
       "      <td>9.34</td>\n",
       "    </tr>\n",
       "    <tr>\n",
       "      <th>26</th>\n",
       "      <td>World (SDG-MDG)</td>\n",
       "      <td>2014</td>\n",
       "      <td>Total</td>\n",
       "      <td>25+</td>\n",
       "      <td>Percent</td>\n",
       "      <td>Modeled</td>\n",
       "      <td>9.68</td>\n",
       "    </tr>\n",
       "    <tr>\n",
       "      <th>35</th>\n",
       "      <td>World (SDG-MDG)</td>\n",
       "      <td>2013</td>\n",
       "      <td>Total</td>\n",
       "      <td>25+</td>\n",
       "      <td>Percent</td>\n",
       "      <td>Modeled</td>\n",
       "      <td>10.17</td>\n",
       "    </tr>\n",
       "    <tr>\n",
       "      <th>44</th>\n",
       "      <td>World (SDG-MDG)</td>\n",
       "      <td>2012</td>\n",
       "      <td>Total</td>\n",
       "      <td>25+</td>\n",
       "      <td>Percent</td>\n",
       "      <td>Modeled</td>\n",
       "      <td>10.77</td>\n",
       "    </tr>\n",
       "  </tbody>\n",
       "</table>\n",
       "</div>"
      ],
      "text/plain": [
       "     Reference Area  Time Period    Sex Age group Unit of measurement  \\\n",
       "8   World (SDG-MDG)         2016  Total       25+             Percent   \n",
       "17  World (SDG-MDG)         2015  Total       25+             Percent   \n",
       "26  World (SDG-MDG)         2014  Total       25+             Percent   \n",
       "35  World (SDG-MDG)         2013  Total       25+             Percent   \n",
       "44  World (SDG-MDG)         2012  Total       25+             Percent   \n",
       "\n",
       "     Nature  Value  \n",
       "8   Modeled   8.99  \n",
       "17  Modeled   9.34  \n",
       "26  Modeled   9.68  \n",
       "35  Modeled  10.17  \n",
       "44  Modeled  10.77  "
      ]
     },
     "execution_count": 11,
     "metadata": {},
     "output_type": "execute_result"
    }
   ],
   "source": [
    "world_age = world[world['Age group']=='25+']\n",
    "world_age_total = world_age[world_age['Sex']=='Total']\n",
    "world_age_total.head()"
   ]
  },
  {
   "cell_type": "code",
   "execution_count": 22,
   "metadata": {},
   "outputs": [
    {
     "data": {
      "text/plain": [
       "array([2016, 2015, 2014, 2013, 2012, 2011, 2010, 2009, 2008, 2007, 2006,\n",
       "       2005, 2004, 2003, 2002, 2001, 2000], dtype=int64)"
      ]
     },
     "execution_count": 22,
     "metadata": {},
     "output_type": "execute_result"
    }
   ],
   "source": [
    "x_world_age_total=world_age_total['Time Period'].get_values()\n",
    "x_world_age_total"
   ]
  },
  {
   "cell_type": "code",
   "execution_count": 23,
   "metadata": {},
   "outputs": [
    {
     "data": {
      "text/plain": [
       "array([  8.99,   9.34,   9.68,  10.17,  10.77,  11.84,  13.5 ,  14.34,\n",
       "        15.14,  15.4 ,  16.66,  17.31,  19.05,  21.23,  23.65,  24.97,\n",
       "        25.95])"
      ]
     },
     "execution_count": 23,
     "metadata": {},
     "output_type": "execute_result"
    }
   ],
   "source": [
    "y_world_age_total = world_age_total['Value'].get_values()\n",
    "y_world_age_total"
   ]
  },
  {
   "cell_type": "markdown",
   "metadata": {},
   "source": [
    "## Global trend in poverty rates"
   ]
  },
  {
   "cell_type": "code",
   "execution_count": 24,
   "metadata": {},
   "outputs": [
    {
     "data": {
      "image/png": "[encoded data removed]",
      "text/plain": [
       "<matplotlib.figure.Figure at 0x2c0d4d6b320>"
      ]
     },
     "metadata": {},
     "output_type": "display_data"
    }
   ],
   "source": [
    "plt.plot(x_world_age_total, y_world_age_total)\n",
    "plt.title('Trend in global poverty')\n",
    "plt.ylabel('% of population living under $1.90 per day')\n",
    "plt.ylim(0, 30)\n",
    "plt.show()"
   ]
  },
  {
   "cell_type": "markdown",
   "metadata": {
    "collapsed": true
   },
   "source": [
    "Global incidence of poverty has fallen drastically between 2000 and 2016. This is likely due to strong global growth from 2000 - 2007 and again from 2010/ 2011 onwards. China's integration into the world economy is also likely to be a major factor. This might overshadow smaller or stalled gains in Least Developed Countries."
   ]
  },
  {
   "cell_type": "code",
   "execution_count": 42,
   "metadata": {},
   "outputs": [],
   "source": [
    "#Seperating out female poverty rate values (y axis), and time period (x)\n",
    "f_world_age = world_age[world_age['Sex']=='Female']\n",
    "yf_world_age = f_world_age['Value'].get_values()\n",
    "xf_world_age = f_world_age['Time Period'].get_values()\n",
    "\n",
    "#Seperating out male poverty rate values (y axis), and time period (x)\n",
    "m_world_age = world_age[world_age['Sex']=='Male']\n",
    "ym_world_age = m_world_age['Value'].get_values()\n",
    "xm_world_age = m_world_age['Time Period'].get_values()"
   ]
  },
  {
   "cell_type": "markdown",
   "metadata": {},
   "source": [
    "## Variations of poverty rates by sex"
   ]
  },
  {
   "cell_type": "code",
   "execution_count": 51,
   "metadata": {},
   "outputs": [
    {
     "data": {
      "image/png": "[encoded data removed]",
      "text/plain": [
       "<matplotlib.figure.Figure at 0x2c0d4e91f28>"
      ]
     },
     "metadata": {},
     "output_type": "display_data"
    }
   ],
   "source": [
    "plt.plot(x_world_age_total, y_world_age_total, color = 'r', linestyle = '-', label = 'Total')\n",
    "plt.plot(xf_world_age, yf_world_age, color = 'b', linestyle = '--',  label = 'Female')\n",
    "plt.plot(xm_world_age, ym_world_age, color = 'b', linestyle = 'dotted',  label = 'Male')\n",
    "plt.legend(loc='upper right')\n",
    "plt.title('Trend in global poverty')\n",
    "plt.ylabel('% of population living under $1.90 per day')\n",
    "plt.show()"
   ]
  },
  {
   "cell_type": "markdown",
   "metadata": {},
   "source": [
    "Poverty rates do not seem to vary much between male and females. However, the high level of aggregation of this data could conceal some regional or country differences in poverty rates between male and females. The greatest difference between poverty levels between male and females appear at the financial crises and it's aftermath - consistent with findings that women tend to bear the brunt of financial hardships."
   ]
  },
  {
   "cell_type": "markdown",
   "metadata": {},
   "source": [
    "## Regional variations"
   ]
  },
  {
   "cell_type": "code",
   "execution_count": 52,
   "metadata": {},
   "outputs": [
    {
     "data": {
      "text/html": [
       "<div>\n",
       "<style>\n",
       "    .dataframe thead tr:only-child th {\n",
       "        text-align: right;\n",
       "    }\n",
       "\n",
       "    .dataframe thead th {\n",
       "        text-align: left;\n",
       "    }\n",
       "\n",
       "    .dataframe tbody tr th {\n",
       "        vertical-align: top;\n",
       "    }\n",
       "</style>\n",
       "<table border=\"1\" class=\"dataframe\">\n",
       "  <thead>\n",
       "    <tr style=\"text-align: right;\">\n",
       "      <th></th>\n",
       "      <th>Reference Area</th>\n",
       "      <th>Time Period</th>\n",
       "      <th>Sex</th>\n",
       "      <th>Age group</th>\n",
       "      <th>Unit of measurement</th>\n",
       "      <th>Nature</th>\n",
       "      <th>Value</th>\n",
       "    </tr>\n",
       "  </thead>\n",
       "  <tbody>\n",
       "    <tr>\n",
       "      <th>0</th>\n",
       "      <td>World (SDG-MDG)</td>\n",
       "      <td>2016</td>\n",
       "      <td>Female</td>\n",
       "      <td>15 - 24</td>\n",
       "      <td>Percent</td>\n",
       "      <td>Modeled</td>\n",
       "      <td>15.18</td>\n",
       "    </tr>\n",
       "    <tr>\n",
       "      <th>1</th>\n",
       "      <td>World (SDG-MDG)</td>\n",
       "      <td>2016</td>\n",
       "      <td>Female</td>\n",
       "      <td>15+</td>\n",
       "      <td>Percent</td>\n",
       "      <td>Modeled</td>\n",
       "      <td>9.93</td>\n",
       "    </tr>\n",
       "    <tr>\n",
       "      <th>2</th>\n",
       "      <td>World (SDG-MDG)</td>\n",
       "      <td>2016</td>\n",
       "      <td>Female</td>\n",
       "      <td>25+</td>\n",
       "      <td>Percent</td>\n",
       "      <td>Modeled</td>\n",
       "      <td>9.05</td>\n",
       "    </tr>\n",
       "    <tr>\n",
       "      <th>3</th>\n",
       "      <td>World (SDG-MDG)</td>\n",
       "      <td>2016</td>\n",
       "      <td>Male</td>\n",
       "      <td>15 - 24</td>\n",
       "      <td>Percent</td>\n",
       "      <td>Modeled</td>\n",
       "      <td>15.04</td>\n",
       "    </tr>\n",
       "    <tr>\n",
       "      <th>4</th>\n",
       "      <td>World (SDG-MDG)</td>\n",
       "      <td>2016</td>\n",
       "      <td>Male</td>\n",
       "      <td>15+</td>\n",
       "      <td>Percent</td>\n",
       "      <td>Modeled</td>\n",
       "      <td>9.84</td>\n",
       "    </tr>\n",
       "  </tbody>\n",
       "</table>\n",
       "</div>"
      ],
      "text/plain": [
       "    Reference Area  Time Period     Sex Age group Unit of measurement  \\\n",
       "0  World (SDG-MDG)         2016  Female   15 - 24             Percent   \n",
       "1  World (SDG-MDG)         2016  Female       15+             Percent   \n",
       "2  World (SDG-MDG)         2016  Female       25+             Percent   \n",
       "3  World (SDG-MDG)         2016    Male   15 - 24             Percent   \n",
       "4  World (SDG-MDG)         2016    Male       15+             Percent   \n",
       "\n",
       "    Nature  Value  \n",
       "0  Modeled  15.18  \n",
       "1  Modeled   9.93  \n",
       "2  Modeled   9.05  \n",
       "3  Modeled  15.04  \n",
       "4  Modeled   9.84  "
      ]
     },
     "execution_count": 52,
     "metadata": {},
     "output_type": "execute_result"
    }
   ],
   "source": [
    "un.head()"
   ]
  },
  {
   "cell_type": "code",
   "execution_count": 78,
   "metadata": {},
   "outputs": [
    {
     "data": {
      "text/plain": [
       "array(['World (SDG-MDG)', 'Caribbean (M49)',\n",
       "       'Caucasus and Central Asia (MDG)', 'Central America (M49)',\n",
       "       'Central Asia (M49)', 'Central Asia and Southern Asia (SDG)',\n",
       "       'Developed regions - Europe, Cyprus, Israel, Northern America, Japan, Australia & New Zealand (MDG)',\n",
       "       'Developing regions (MDG)', 'Eastern Africa (M49)',\n",
       "       'Eastern Asia (M49)', 'Eastern Asia and South-eastern Asia (SDG)',\n",
       "       'Eastern Asia, exc. Japan (MDG)', 'Eastern Europe (M49)',\n",
       "       'Europe (M49)', 'Landlocked developing countries (LLDCs)',\n",
       "       'Latin America and the Caribbean (SDG-MDG)',\n",
       "       'Least Developed Countries (LDCs)', 'Melanesia (M49)',\n",
       "       'Middle Africa (M49)', 'Northern Africa (M49)',\n",
       "       'Northern Africa, exc. Sudan (MDG)',\n",
       "       'Northern America and Europe (SDG)', 'Oceania (M49)',\n",
       "       'Oceania, exc. Australia and New Zealand (SDG-MDG)',\n",
       "       'Small island developing States (SIDS)', 'South America (M49)',\n",
       "       'South-eastern Asia (M49-MDG)', 'Southern Africa (M49)',\n",
       "       'Southern Asia (M49-MDG)', 'Southern Europe (M49)',\n",
       "       'Sub-Saharan Africa (SDG)', 'Sub-Saharan Africa, inc. Sudan (MDG)',\n",
       "       'Western Africa (M49)', 'Western Asia (M49)',\n",
       "       'Western Asia and Northern Africa (SDG)',\n",
       "       'Western Asia, exc. Armenia, Azerbaijan, Cyprus, Israel and Georgia (MDG)',\n",
       "       'Afghanistan', 'Albania', 'Algeria', 'Angola', 'Argentina',\n",
       "       'Armenia', 'Azerbaijan', 'Bahamas', 'Bahrain', 'Bangladesh',\n",
       "       'Barbados', 'Belarus', 'Belize', 'Benin', 'Bhutan',\n",
       "       'Bolivia (Plurinational State of)', 'Bosnia and Herzegovina',\n",
       "       'Botswana', 'Brazil', 'Brunei Darussalam', 'Burkina Faso',\n",
       "       'Burundi', \"CÃ´te d'Ivoire\", 'Cabo Verde', 'Cambodia', 'Cameroon',\n",
       "       'Central African Republic', 'Chad', 'Chile', 'China',\n",
       "       'China, Hong Kong Special Administrative Region',\n",
       "       'China, Macao Special Administrative Region', 'Colombia', 'Comoros',\n",
       "       'Congo', 'Costa Rica', 'Cuba',\n",
       "       \"Democratic People's Republic of Korea\",\n",
       "       'Democratic Republic of the Congo', 'Dominican Republic', 'Ecuador',\n",
       "       'Egypt', 'El Salvador', 'Equatorial Guinea', 'Eritrea', 'Ethiopia',\n",
       "       'Fiji', 'Gabon', 'Gambia', 'Georgia', 'Ghana', 'Guatemala',\n",
       "       'Guinea', 'Guinea-Bissau', 'Guyana', 'Haiti', 'Honduras', 'India',\n",
       "       'Indonesia', 'Iran (Islamic Republic of)', 'Iraq', 'Jamaica',\n",
       "       'Jordan', 'Kazakhstan', 'Kenya', 'Kuwait', 'Kyrgyzstan',\n",
       "       \"Lao People's Democratic Republic\", 'Lebanon', 'Lesotho', 'Liberia',\n",
       "       'Libya', 'Madagascar', 'Malawi', 'Malaysia', 'Maldives', 'Mali',\n",
       "       'Mauritania', 'Mauritius', 'Mexico', 'Mongolia', 'Montenegro',\n",
       "       'Morocco', 'Mozambique', 'Myanmar', 'Namibia', 'Nepal', 'Nicaragua',\n",
       "       'Niger', 'Nigeria', 'Oman', 'Pakistan', 'Panama',\n",
       "       'Papua New Guinea', 'Paraguay', 'Peru', 'Philippines',\n",
       "       'Puerto Rico', 'Qatar', 'Republic of Korea', 'Republic of Moldova',\n",
       "       'Russian Federation', 'Rwanda', 'Saudi Arabia', 'Senegal', 'Serbia',\n",
       "       'Sierra Leone', 'Singapore', 'Solomon Islands', 'Somalia',\n",
       "       'South Africa', 'Sri Lanka', 'State of Palestine', 'Sudan',\n",
       "       'Suriname', 'Swaziland', 'Syrian Arab Republic', 'Tajikistan',\n",
       "       'Thailand', 'The former Yugoslav Republic of Macedonia',\n",
       "       'Timor-Leste', 'Togo', 'Trinidad and Tobago', 'Tunisia', 'Turkey',\n",
       "       'Turkmenistan', 'Uganda', 'Ukraine', 'United Arab Emirates',\n",
       "       'United Republic of Tanzania', 'Uruguay', 'Uzbekistan',\n",
       "       'Venezuela (Bolivarian Republic of)', 'Viet Nam', 'Yemen', 'Zambia',\n",
       "       'Zimbabwe'], dtype=object)"
      ]
     },
     "execution_count": 78,
     "metadata": {},
     "output_type": "execute_result"
    }
   ],
   "source": [
    "countries = un['Reference Area'].unique()\n",
    "countries"
   ]
  },
  {
   "cell_type": "code",
   "execution_count": 79,
   "metadata": {
    "collapsed": true
   },
   "outputs": [],
   "source": [
    "# List of regions included along with global and country variables\n",
    "regions = ['Sub-Saharan Africa (SDG)',\n",
    "           'Latin America and the Caribbean (SDG-MDG)',\n",
    "           'Western Asia and Northern Africa (SDG)',\n",
    "           'Central Asia (M49)',\n",
    "           'Eastern Asia and South-eastern Asia (SDG)',\n",
    "           'Developed regions - Europe, Cyprus, Israel, Northern America, Japan, Australia & New Zealand (MDG)']"
   ]
  },
  {
   "cell_type": "code",
   "execution_count": 80,
   "metadata": {
    "collapsed": true
   },
   "outputs": [],
   "source": [
    "# Picking a single time frame for snapshot of variability of rates\n",
    "world14 = un[un['Time Period']==2014]"
   ]
  },
  {
   "cell_type": "code",
   "execution_count": 82,
   "metadata": {},
   "outputs": [],
   "source": [
    "# Creating regions only df\n",
    "pdList = []\n",
    "for region in regions:\n",
    "    todrop = world14[world14['Reference Area'] == region]\n",
    "    pdList.append(todrop)\n",
    "regions14 = pd.concat(pdList)"
   ]
  },
  {
   "cell_type": "code",
   "execution_count": 84,
   "metadata": {},
   "outputs": [
    {
     "data": {
      "text/html": [
       "<div>\n",
       "<style>\n",
       "    .dataframe thead tr:only-child th {\n",
       "        text-align: right;\n",
       "    }\n",
       "\n",
       "    .dataframe thead th {\n",
       "        text-align: left;\n",
       "    }\n",
       "\n",
       "    .dataframe tbody tr th {\n",
       "        vertical-align: top;\n",
       "    }\n",
       "</style>\n",
       "<table border=\"1\" class=\"dataframe\">\n",
       "  <thead>\n",
       "    <tr style=\"text-align: right;\">\n",
       "      <th></th>\n",
       "      <th>Reference Area</th>\n",
       "      <th>Time Period</th>\n",
       "      <th>Sex</th>\n",
       "      <th>Age group</th>\n",
       "      <th>Unit of measurement</th>\n",
       "      <th>Nature</th>\n",
       "      <th>Value</th>\n",
       "    </tr>\n",
       "  </thead>\n",
       "  <tbody>\n",
       "    <tr>\n",
       "      <th>4608</th>\n",
       "      <td>Sub-Saharan Africa (SDG)</td>\n",
       "      <td>2014</td>\n",
       "      <td>Female</td>\n",
       "      <td>15 - 24</td>\n",
       "      <td>Percent</td>\n",
       "      <td>Modeled</td>\n",
       "      <td>38.18</td>\n",
       "    </tr>\n",
       "    <tr>\n",
       "      <th>4609</th>\n",
       "      <td>Sub-Saharan Africa (SDG)</td>\n",
       "      <td>2014</td>\n",
       "      <td>Female</td>\n",
       "      <td>15+</td>\n",
       "      <td>Percent</td>\n",
       "      <td>Modeled</td>\n",
       "      <td>36.82</td>\n",
       "    </tr>\n",
       "    <tr>\n",
       "      <th>4610</th>\n",
       "      <td>Sub-Saharan Africa (SDG)</td>\n",
       "      <td>2014</td>\n",
       "      <td>Female</td>\n",
       "      <td>25+</td>\n",
       "      <td>Percent</td>\n",
       "      <td>Modeled</td>\n",
       "      <td>36.34</td>\n",
       "    </tr>\n",
       "    <tr>\n",
       "      <th>4611</th>\n",
       "      <td>Sub-Saharan Africa (SDG)</td>\n",
       "      <td>2014</td>\n",
       "      <td>Male</td>\n",
       "      <td>15 - 24</td>\n",
       "      <td>Percent</td>\n",
       "      <td>Modeled</td>\n",
       "      <td>39.27</td>\n",
       "    </tr>\n",
       "    <tr>\n",
       "      <th>4612</th>\n",
       "      <td>Sub-Saharan Africa (SDG)</td>\n",
       "      <td>2014</td>\n",
       "      <td>Male</td>\n",
       "      <td>15+</td>\n",
       "      <td>Percent</td>\n",
       "      <td>Modeled</td>\n",
       "      <td>34.37</td>\n",
       "    </tr>\n",
       "  </tbody>\n",
       "</table>\n",
       "</div>"
      ],
      "text/plain": [
       "                Reference Area  Time Period     Sex Age group  \\\n",
       "4608  Sub-Saharan Africa (SDG)         2014  Female   15 - 24   \n",
       "4609  Sub-Saharan Africa (SDG)         2014  Female       15+   \n",
       "4610  Sub-Saharan Africa (SDG)         2014  Female       25+   \n",
       "4611  Sub-Saharan Africa (SDG)         2014    Male   15 - 24   \n",
       "4612  Sub-Saharan Africa (SDG)         2014    Male       15+   \n",
       "\n",
       "     Unit of measurement   Nature  Value  \n",
       "4608             Percent  Modeled  38.18  \n",
       "4609             Percent  Modeled  36.82  \n",
       "4610             Percent  Modeled  36.34  \n",
       "4611             Percent  Modeled  39.27  \n",
       "4612             Percent  Modeled  34.37  "
      ]
     },
     "execution_count": 84,
     "metadata": {},
     "output_type": "execute_result"
    }
   ],
   "source": [
    "regions14.head()"
   ]
  },
  {
   "cell_type": "code",
   "execution_count": 87,
   "metadata": {},
   "outputs": [],
   "source": [
    "# Removing out female and male data and all age categories except 25+\n",
    "regions14_age = regions14[regions14['Age group']=='25+']\n",
    "regions14_age_sex = regions14_age[regions14_age['Sex']=='Total']"
   ]
  },
  {
   "cell_type": "code",
   "execution_count": 91,
   "metadata": {},
   "outputs": [
    {
     "data": {
      "text/html": [
       "<div>\n",
       "<style>\n",
       "    .dataframe thead tr:only-child th {\n",
       "        text-align: right;\n",
       "    }\n",
       "\n",
       "    .dataframe thead th {\n",
       "        text-align: left;\n",
       "    }\n",
       "\n",
       "    .dataframe tbody tr th {\n",
       "        vertical-align: top;\n",
       "    }\n",
       "</style>\n",
       "<table border=\"1\" class=\"dataframe\">\n",
       "  <thead>\n",
       "    <tr style=\"text-align: right;\">\n",
       "      <th></th>\n",
       "      <th>Reference Area</th>\n",
       "      <th>Time Period</th>\n",
       "      <th>Sex</th>\n",
       "      <th>Age group</th>\n",
       "      <th>Unit of measurement</th>\n",
       "      <th>Nature</th>\n",
       "      <th>Value</th>\n",
       "    </tr>\n",
       "  </thead>\n",
       "  <tbody>\n",
       "    <tr>\n",
       "      <th>4616</th>\n",
       "      <td>Sub-Saharan Africa (SDG)</td>\n",
       "      <td>2014</td>\n",
       "      <td>Total</td>\n",
       "      <td>25+</td>\n",
       "      <td>Percent</td>\n",
       "      <td>Modeled</td>\n",
       "      <td>34.35</td>\n",
       "    </tr>\n",
       "    <tr>\n",
       "      <th>2321</th>\n",
       "      <td>Latin America and the Caribbean (SDG-MDG)</td>\n",
       "      <td>2014</td>\n",
       "      <td>Total</td>\n",
       "      <td>25+</td>\n",
       "      <td>Percent</td>\n",
       "      <td>Modeled</td>\n",
       "      <td>3.36</td>\n",
       "    </tr>\n",
       "    <tr>\n",
       "      <th>5228</th>\n",
       "      <td>Western Asia and Northern Africa (SDG)</td>\n",
       "      <td>2014</td>\n",
       "      <td>Total</td>\n",
       "      <td>25+</td>\n",
       "      <td>Percent</td>\n",
       "      <td>Modeled</td>\n",
       "      <td>3.56</td>\n",
       "    </tr>\n",
       "    <tr>\n",
       "      <th>638</th>\n",
       "      <td>Central Asia (M49)</td>\n",
       "      <td>2014</td>\n",
       "      <td>Total</td>\n",
       "      <td>25+</td>\n",
       "      <td>Percent</td>\n",
       "      <td>Modeled</td>\n",
       "      <td>3.54</td>\n",
       "    </tr>\n",
       "    <tr>\n",
       "      <th>1556</th>\n",
       "      <td>Eastern Asia and South-eastern Asia (SDG)</td>\n",
       "      <td>2014</td>\n",
       "      <td>Total</td>\n",
       "      <td>25+</td>\n",
       "      <td>Percent</td>\n",
       "      <td>Modeled</td>\n",
       "      <td>5.45</td>\n",
       "    </tr>\n",
       "    <tr>\n",
       "      <th>944</th>\n",
       "      <td>Developed regions - Europe, Cyprus, Israel, No...</td>\n",
       "      <td>2014</td>\n",
       "      <td>Total</td>\n",
       "      <td>25+</td>\n",
       "      <td>Percent</td>\n",
       "      <td>Modeled</td>\n",
       "      <td>0.21</td>\n",
       "    </tr>\n",
       "  </tbody>\n",
       "</table>\n",
       "</div>"
      ],
      "text/plain": [
       "                                         Reference Area  Time Period    Sex  \\\n",
       "4616                           Sub-Saharan Africa (SDG)         2014  Total   \n",
       "2321          Latin America and the Caribbean (SDG-MDG)         2014  Total   \n",
       "5228             Western Asia and Northern Africa (SDG)         2014  Total   \n",
       "638                                  Central Asia (M49)         2014  Total   \n",
       "1556          Eastern Asia and South-eastern Asia (SDG)         2014  Total   \n",
       "944   Developed regions - Europe, Cyprus, Israel, No...         2014  Total   \n",
       "\n",
       "     Age group Unit of measurement   Nature  Value  \n",
       "4616       25+             Percent  Modeled  34.35  \n",
       "2321       25+             Percent  Modeled   3.36  \n",
       "5228       25+             Percent  Modeled   3.56  \n",
       "638        25+             Percent  Modeled   3.54  \n",
       "1556       25+             Percent  Modeled   5.45  \n",
       "944        25+             Percent  Modeled   0.21  "
      ]
     },
     "execution_count": 91,
     "metadata": {},
     "output_type": "execute_result"
    }
   ],
   "source": [
    "regions14_age_sex.head(10)"
   ]
  },
  {
   "cell_type": "code",
   "execution_count": 109,
   "metadata": {},
   "outputs": [
    {
     "data": {
      "text/plain": [
       "<matplotlib.axes._subplots.AxesSubplot at 0x2c0d5280128>"
      ]
     },
     "execution_count": 109,
     "metadata": {},
     "output_type": "execute_result"
    },
    {
     "data": {
      "image/png": "[encoded data removed]",
      "text/plain": [
       "<matplotlib.figure.Figure at 0x2c0d6a645c0>"
      ]
     },
     "metadata": {},
     "output_type": "display_data"
    }
   ],
   "source": [
    "regions14_age_sex.plot(x='Reference Area', y='Value', kind = 'bar', legend = None)"
   ]
  },
  {
   "cell_type": "code",
   "execution_count": 105,
   "metadata": {},
   "outputs": [],
   "source": [
    "#rename some of the Reference areas for a better graph\n",
    "regs = regions14_age_sex.replace('Developed regions - Europe, Cyprus, Israel, Northern America, Japan, Australia & New Zealand (MDG)', 'Developed regions')"
   ]
  },
  {
   "cell_type": "code",
   "execution_count": 113,
   "metadata": {},
   "outputs": [
    {
     "data": {
      "text/plain": [
       "<matplotlib.text.Text at 0x2c0d6e1e358>"
      ]
     },
     "execution_count": 113,
     "metadata": {},
     "output_type": "execute_result"
    },
    {
     "data": {
      "image/png": "[encoded data removed]",
      "text/plain": [
       "<matplotlib.figure.Figure at 0x2c0d6d65860>"
      ]
     },
     "metadata": {},
     "output_type": "display_data"
    }
   ],
   "source": [
    "regs_plot = regs.plot(x='Reference Area', y='Value', kind = 'bar', title = 'Regional differences in poverty in 2014', legend = None)\n",
    "regs_plot.set_ylabel('% in poverty')"
   ]
  },
  {
   "cell_type": "code",
   "execution_count": null,
   "metadata": {
    "collapsed": true
   },
   "outputs": [],
   "source": []
  }
 ],
 "metadata": {
  "kernelspec": {
   "display_name": "Python 3",
   "language": "python",
   "name": "python3"
  },
  "language_info": {
   "codemirror_mode": {
    "name": "ipython",
    "version": 3
   },
   "file_extension": ".py",
   "mimetype": "text/x-python",
   "name": "python",
   "nbconvert_exporter": "python",
   "pygments_lexer": "ipython3",
   "version": "3.6.1"
  }
 },
 "nbformat": 4,
 "nbformat_minor": 2
}
