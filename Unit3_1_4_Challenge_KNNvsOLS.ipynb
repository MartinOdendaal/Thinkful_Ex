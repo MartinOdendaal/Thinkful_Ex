{
 "cells": [
  {
   "cell_type": "markdown",
   "metadata": {},
   "source": [
    "# Challenge: Model Comparison\n",
    "\n",
    "Here let's work on regression. Find a data set and build a KNN Regression and an OLS regression. Compare the two. How similar are they? Do they miss in different ways?\n",
    "\n",
    "Create a Jupyter notebook with your models. At the end in a markdown cell write a few paragraphs to describe the models' behaviors and why you favor one model or the other. Try to determine whether there is a situation where you would change your mind, or whether one is unambiguously better than the other. Lastly, try to note what it is about the data that causes the better model to outperform the weaker model. Submit a link to your notebook below."
   ]
  },
  {
   "cell_type": "markdown",
   "metadata": {},
   "source": [
    "## Job satisfaction of data scientist\n",
    "\n",
    "Using Kaggle survey data on data scientist this notebook investigates the ability of OLS and kNN regression in predicting self-reported job satisfaction.\n",
    "\n",
    "To keep models equivalent the same features are used in both cases (restricted to continuous variables)."
   ]
  },
  {
   "cell_type": "markdown",
   "metadata": {},
   "source": [
    "### The data\n",
    "\n",
    "Available from [here](https://www.kaggle.com/datasets)\n",
    "\n",
    "Kaggle conducted an industry-wide survey to establish a comprehensive view of the state of data science and machine learning. The survey received over 16,000 responses and we learned a ton about who is working with data, what’s happening at the cutting edge of machine learning across industries, and how new data scientists can best break into the field."
   ]
  },
  {
   "cell_type": "code",
   "execution_count": 170,
   "metadata": {
    "collapsed": true
   },
   "outputs": [],
   "source": [
    "import numpy as np\n",
    "import pandas as pd\n",
    "import matplotlib.pyplot as plt\n",
    "import seaborn as sns\n",
    "from sklearn import model_selection \n",
    "%matplotlib inline"
   ]
  },
  {
   "cell_type": "code",
   "execution_count": 234,
   "metadata": {},
   "outputs": [
    {
     "data": {
      "text/html": [
       "<div>\n",
       "<style>\n",
       "    .dataframe thead tr:only-child th {\n",
       "        text-align: right;\n",
       "    }\n",
       "\n",
       "    .dataframe thead th {\n",
       "        text-align: left;\n",
       "    }\n",
       "\n",
       "    .dataframe tbody tr th {\n",
       "        vertical-align: top;\n",
       "    }\n",
       "</style>\n",
       "<table border=\"1\" class=\"dataframe\">\n",
       "  <thead>\n",
       "    <tr style=\"text-align: right;\">\n",
       "      <th></th>\n",
       "      <th>GenderSelect</th>\n",
       "      <th>Country</th>\n",
       "      <th>Age</th>\n",
       "      <th>EmploymentStatus</th>\n",
       "      <th>StudentStatus</th>\n",
       "      <th>LearningDataScience</th>\n",
       "      <th>CodeWriter</th>\n",
       "      <th>CareerSwitcher</th>\n",
       "      <th>CurrentJobTitleSelect</th>\n",
       "      <th>TitleFit</th>\n",
       "      <th>...</th>\n",
       "      <th>JobFactorExperienceLevel</th>\n",
       "      <th>JobFactorDepartment</th>\n",
       "      <th>JobFactorTitle</th>\n",
       "      <th>JobFactorCompanyFunding</th>\n",
       "      <th>JobFactorImpact</th>\n",
       "      <th>JobFactorRemote</th>\n",
       "      <th>JobFactorIndustry</th>\n",
       "      <th>JobFactorLeaderReputation</th>\n",
       "      <th>JobFactorDiversity</th>\n",
       "      <th>JobFactorPublishingOpportunity</th>\n",
       "    </tr>\n",
       "  </thead>\n",
       "  <tbody>\n",
       "    <tr>\n",
       "      <th>0</th>\n",
       "      <td>Non-binary, genderqueer, or gender non-conforming</td>\n",
       "      <td>NaN</td>\n",
       "      <td>NaN</td>\n",
       "      <td>Employed full-time</td>\n",
       "      <td>NaN</td>\n",
       "      <td>NaN</td>\n",
       "      <td>Yes</td>\n",
       "      <td>NaN</td>\n",
       "      <td>DBA/Database Engineer</td>\n",
       "      <td>Fine</td>\n",
       "      <td>...</td>\n",
       "      <td>NaN</td>\n",
       "      <td>NaN</td>\n",
       "      <td>NaN</td>\n",
       "      <td>NaN</td>\n",
       "      <td>NaN</td>\n",
       "      <td>NaN</td>\n",
       "      <td>NaN</td>\n",
       "      <td>NaN</td>\n",
       "      <td>NaN</td>\n",
       "      <td>NaN</td>\n",
       "    </tr>\n",
       "    <tr>\n",
       "      <th>1</th>\n",
       "      <td>Female</td>\n",
       "      <td>United States</td>\n",
       "      <td>30.0</td>\n",
       "      <td>Not employed, but looking for work</td>\n",
       "      <td>NaN</td>\n",
       "      <td>NaN</td>\n",
       "      <td>NaN</td>\n",
       "      <td>NaN</td>\n",
       "      <td>NaN</td>\n",
       "      <td>NaN</td>\n",
       "      <td>...</td>\n",
       "      <td>NaN</td>\n",
       "      <td>NaN</td>\n",
       "      <td>NaN</td>\n",
       "      <td>NaN</td>\n",
       "      <td>NaN</td>\n",
       "      <td>NaN</td>\n",
       "      <td>NaN</td>\n",
       "      <td>Somewhat important</td>\n",
       "      <td>NaN</td>\n",
       "      <td>NaN</td>\n",
       "    </tr>\n",
       "    <tr>\n",
       "      <th>2</th>\n",
       "      <td>Male</td>\n",
       "      <td>Canada</td>\n",
       "      <td>28.0</td>\n",
       "      <td>Not employed, but looking for work</td>\n",
       "      <td>NaN</td>\n",
       "      <td>NaN</td>\n",
       "      <td>NaN</td>\n",
       "      <td>NaN</td>\n",
       "      <td>NaN</td>\n",
       "      <td>NaN</td>\n",
       "      <td>...</td>\n",
       "      <td>Very Important</td>\n",
       "      <td>Very Important</td>\n",
       "      <td>Very Important</td>\n",
       "      <td>Very Important</td>\n",
       "      <td>Very Important</td>\n",
       "      <td>Very Important</td>\n",
       "      <td>Very Important</td>\n",
       "      <td>Very Important</td>\n",
       "      <td>Very Important</td>\n",
       "      <td>Very Important</td>\n",
       "    </tr>\n",
       "    <tr>\n",
       "      <th>3</th>\n",
       "      <td>Male</td>\n",
       "      <td>United States</td>\n",
       "      <td>56.0</td>\n",
       "      <td>Independent contractor, freelancer, or self-em...</td>\n",
       "      <td>NaN</td>\n",
       "      <td>NaN</td>\n",
       "      <td>Yes</td>\n",
       "      <td>NaN</td>\n",
       "      <td>Operations Research Practitioner</td>\n",
       "      <td>Poorly</td>\n",
       "      <td>...</td>\n",
       "      <td>NaN</td>\n",
       "      <td>NaN</td>\n",
       "      <td>NaN</td>\n",
       "      <td>NaN</td>\n",
       "      <td>NaN</td>\n",
       "      <td>NaN</td>\n",
       "      <td>NaN</td>\n",
       "      <td>NaN</td>\n",
       "      <td>NaN</td>\n",
       "      <td>NaN</td>\n",
       "    </tr>\n",
       "    <tr>\n",
       "      <th>4</th>\n",
       "      <td>Male</td>\n",
       "      <td>Taiwan</td>\n",
       "      <td>38.0</td>\n",
       "      <td>Employed full-time</td>\n",
       "      <td>NaN</td>\n",
       "      <td>NaN</td>\n",
       "      <td>Yes</td>\n",
       "      <td>NaN</td>\n",
       "      <td>Computer Scientist</td>\n",
       "      <td>Fine</td>\n",
       "      <td>...</td>\n",
       "      <td>NaN</td>\n",
       "      <td>NaN</td>\n",
       "      <td>NaN</td>\n",
       "      <td>NaN</td>\n",
       "      <td>NaN</td>\n",
       "      <td>NaN</td>\n",
       "      <td>NaN</td>\n",
       "      <td>NaN</td>\n",
       "      <td>NaN</td>\n",
       "      <td>NaN</td>\n",
       "    </tr>\n",
       "  </tbody>\n",
       "</table>\n",
       "<p>5 rows × 228 columns</p>\n",
       "</div>"
      ],
      "text/plain": [
       "                                        GenderSelect        Country   Age  \\\n",
       "0  Non-binary, genderqueer, or gender non-conforming            NaN   NaN   \n",
       "1                                             Female  United States  30.0   \n",
       "2                                               Male         Canada  28.0   \n",
       "3                                               Male  United States  56.0   \n",
       "4                                               Male         Taiwan  38.0   \n",
       "\n",
       "                                    EmploymentStatus StudentStatus  \\\n",
       "0                                 Employed full-time           NaN   \n",
       "1                 Not employed, but looking for work           NaN   \n",
       "2                 Not employed, but looking for work           NaN   \n",
       "3  Independent contractor, freelancer, or self-em...           NaN   \n",
       "4                                 Employed full-time           NaN   \n",
       "\n",
       "  LearningDataScience CodeWriter CareerSwitcher  \\\n",
       "0                 NaN        Yes            NaN   \n",
       "1                 NaN        NaN            NaN   \n",
       "2                 NaN        NaN            NaN   \n",
       "3                 NaN        Yes            NaN   \n",
       "4                 NaN        Yes            NaN   \n",
       "\n",
       "              CurrentJobTitleSelect TitleFit              ...                \\\n",
       "0             DBA/Database Engineer     Fine              ...                 \n",
       "1                               NaN      NaN              ...                 \n",
       "2                               NaN      NaN              ...                 \n",
       "3  Operations Research Practitioner   Poorly              ...                 \n",
       "4                Computer Scientist     Fine              ...                 \n",
       "\n",
       "  JobFactorExperienceLevel JobFactorDepartment  JobFactorTitle  \\\n",
       "0                      NaN                 NaN             NaN   \n",
       "1                      NaN                 NaN             NaN   \n",
       "2           Very Important      Very Important  Very Important   \n",
       "3                      NaN                 NaN             NaN   \n",
       "4                      NaN                 NaN             NaN   \n",
       "\n",
       "  JobFactorCompanyFunding JobFactorImpact JobFactorRemote JobFactorIndustry  \\\n",
       "0                     NaN             NaN             NaN               NaN   \n",
       "1                     NaN             NaN             NaN               NaN   \n",
       "2          Very Important  Very Important  Very Important    Very Important   \n",
       "3                     NaN             NaN             NaN               NaN   \n",
       "4                     NaN             NaN             NaN               NaN   \n",
       "\n",
       "  JobFactorLeaderReputation JobFactorDiversity JobFactorPublishingOpportunity  \n",
       "0                       NaN                NaN                            NaN  \n",
       "1        Somewhat important                NaN                            NaN  \n",
       "2            Very Important     Very Important                 Very Important  \n",
       "3                       NaN                NaN                            NaN  \n",
       "4                       NaN                NaN                            NaN  \n",
       "\n",
       "[5 rows x 228 columns]"
      ]
     },
     "execution_count": 234,
     "metadata": {},
     "output_type": "execute_result"
    }
   ],
   "source": [
    "# Loading the data\n",
    "# Loading data from csv gave UnicodeError, but not from Excel?\n",
    "fullsurvey = pd.read_excel('multipleChoice.xlsx')\n",
    "fullsurvey.head()"
   ]
  },
  {
   "cell_type": "code",
   "execution_count": 235,
   "metadata": {},
   "outputs": [
    {
     "name": "stdout",
     "output_type": "stream",
     "text": [
      "<class 'pandas.core.frame.DataFrame'>\n",
      "RangeIndex: 16716 entries, 0 to 16715\n",
      "Columns: 228 entries, GenderSelect to JobFactorPublishingOpportunity\n",
      "dtypes: float64(13), object(215)\n",
      "memory usage: 29.1+ MB\n",
      "None \n",
      "\n",
      "<class 'pandas.core.frame.DataFrame'>\n",
      "RangeIndex: 16716 entries, 0 to 16715\n",
      "Data columns (total 16 columns):\n",
      "JobSatisfaction                  6677 non-null object\n",
      "Age                              16385 non-null float64\n",
      "LearningCategorySelftTaught      13109 non-null float64\n",
      "LearningCategoryOnlineCourses    13126 non-null float64\n",
      "LearningCategoryWork             13111 non-null float64\n",
      "LearningCategoryUniversity       13122 non-null float64\n",
      "LearningCategoryKaggle           13126 non-null float64\n",
      "LearningCategoryOther            13094 non-null float64\n",
      "TimeGatheringData                7530 non-null float64\n",
      "TimeModelBuilding                7528 non-null float64\n",
      "TimeProduction                   7517 non-null float64\n",
      "TimeVisualizing                  7529 non-null float64\n",
      "TimeFindingInsights              7523 non-null float64\n",
      "TimeOtherSelect                  7513 non-null float64\n",
      "CompensationAmount               5224 non-null object\n",
      "CompensationCurrency             4530 non-null object\n",
      "dtypes: float64(13), object(3)\n",
      "memory usage: 2.0+ MB\n",
      "None\n"
     ]
    }
   ],
   "source": [
    "print(fullsurvey.info(), '\\n')\n",
    "\n",
    "# Keeping only the variables of interest\n",
    "survey = fullsurvey.loc[:, ['JobSatisfaction', 'Age', 'LearningCategorySelftTaught', \n",
    "                            'LearningCategoryOnlineCourses', 'LearningCategoryWork',\n",
    "                            'LearningCategoryUniversity', 'LearningCategoryKaggle',\n",
    "                            'LearningCategoryOther', 'TimeGatheringData',\n",
    "                            'TimeModelBuilding', 'TimeProduction', 'TimeVisualizing',\n",
    "                            'TimeFindingInsights', 'TimeOtherSelect', 'CompensationAmount', 'CompensationCurrency']]\n",
    "\n",
    "print(survey.info())\n",
    "\n",
    "# Cleaning JobSatisfaction\n",
    "survey['JobSatisfaction'].replace('10 - Highly Satisfied', 10, inplace=True)\n",
    "survey['JobSatisfaction'].replace('1 - Highly Dissatisfied', 1, inplace=True)\n",
    "survey['JobSatisfaction'].replace('I prefer not to share', np.nan, inplace=True)\n",
    "\n",
    "# Cleaning CompensationAmount: Change to numeric, drop if NaN\n",
    "survey['CompensationAmount'] = pd.to_numeric(survey['CompensationAmount'], errors='coerce')\n",
    "\n",
    "# Cleaning CompensationAmount: Getting rid of negative amounts, errors\n",
    "# Cleaning CompensationAmount: Drop amounts considered too small (less than 10000 in any currency)\n",
    "survey['CompensationAmount'] = survey['CompensationAmount'].where(survey['CompensationAmount']>10000, np.nan)\n"
   ]
  },
  {
   "cell_type": "markdown",
   "metadata": {},
   "source": [
    "This dataset has a lot of missing values. Here, I drop all NaN in the variables I'm interested in. This might bias the sample in several ways:\n",
    "- If unsatisfied workers are more likely to skip the question (sample skewed to higher happiness levels). However, the sample also contains students, unemployed, and self-employed who correctly skip the question.\n",
    "- If not answering learning, or how time is spent at work, is affected by low satisfaction levels (although a counter argument is that more satisfied workers skip these questions as they actually want to get to their work)\n",
    "- Income earned: Generally surveys struggle with reporting from high earners. But this is likely to be less of a problem here (not asking wealth questions, only salaray). For self-employed workers there may be under-reporting.\n",
    "- The income earned variable has potential to be a noisy variable, it is in multiple curriencies, and some people may report in thousands, report net vs gross, or report monthly vs annual.\n"
   ]
  },
  {
   "cell_type": "code",
   "execution_count": 236,
   "metadata": {},
   "outputs": [
    {
     "name": "stdout",
     "output_type": "stream",
     "text": [
      "746\n"
     ]
    },
    {
     "data": {
      "image/png": "[encoded data removed]",
      "text/plain": [
       "<matplotlib.figure.Figure at 0x17f8f4f3588>"
      ]
     },
     "metadata": {},
     "output_type": "display_data"
    },
    {
     "data": {
      "image/png": "[encoded data removed]",
      "text/plain": [
       "<matplotlib.figure.Figure at 0x17f8b8dab70>"
      ]
     },
     "metadata": {},
     "output_type": "display_data"
    }
   ],
   "source": [
    "# Drop all NaN\n",
    "survey.dropna(inplace=True, subset=['JobSatisfaction', 'Age', 'LearningCategorySelftTaught',\n",
    "             'LearningCategoryOnlineCourses', 'LearningCategoryWork',\n",
    "             'LearningCategoryUniversity', 'LearningCategoryKaggle',\n",
    "             'LearningCategoryOther', \n",
    "             'TimeGatheringData', 'TimeModelBuilding', 'TimeProduction','TimeVisualizing',\n",
    "             'TimeFindingInsights', 'TimeOtherSelect', 'CompensationAmount'])\n",
    "\n",
    "# Check how many of CompensationAmount is unspecified in terms of currency\n",
    "print(survey.CompensationCurrency.isnull().sum())\n",
    "\n",
    "# One outlier at 45,000,000 (of some unknown currency)\n",
    "sns.boxplot(survey.loc[survey.CompensationCurrency.isnull(), 'CompensationAmount'])\n",
    "plt.show()\n",
    "\n",
    "incomeoutlier = survey.loc[survey.CompensationCurrency.isnull(), 'CompensationAmount'].max()\n",
    "survey = survey.loc[survey['CompensationAmount'] != incomeoutlier, :]\n",
    "\n",
    "sns.boxplot(survey.loc[survey.CompensationCurrency.isnull(), 'CompensationAmount'])\n",
    "plt.show()\n",
    "\n",
    "# Assume the rest of the unknown currencies are in USD\n",
    "survey.CompensationCurrency.fillna('USD', inplace=True)"
   ]
  },
  {
   "cell_type": "code",
   "execution_count": 237,
   "metadata": {
    "scrolled": true
   },
   "outputs": [
    {
     "name": "stdout",
     "output_type": "stream",
     "text": [
      "<class 'pandas.core.frame.DataFrame'>\n",
      "Int64Index: 4771 entries, 3 to 16673\n",
      "Data columns (total 16 columns):\n",
      "JobSatisfaction                  4771 non-null float64\n",
      "Age                              4771 non-null float64\n",
      "LearningCategorySelftTaught      4771 non-null float64\n",
      "LearningCategoryOnlineCourses    4771 non-null float64\n",
      "LearningCategoryWork             4771 non-null float64\n",
      "LearningCategoryUniversity       4771 non-null float64\n",
      "LearningCategoryKaggle           4771 non-null float64\n",
      "LearningCategoryOther            4771 non-null float64\n",
      "TimeGatheringData                4771 non-null float64\n",
      "TimeModelBuilding                4771 non-null float64\n",
      "TimeProduction                   4771 non-null float64\n",
      "TimeVisualizing                  4771 non-null float64\n",
      "TimeFindingInsights              4771 non-null float64\n",
      "TimeOtherSelect                  4771 non-null float64\n",
      "CompensationAmount               4771 non-null float64\n",
      "CompensationCurrency             4771 non-null object\n",
      "dtypes: float64(15), object(1)\n",
      "memory usage: 633.6+ KB\n"
     ]
    }
   ],
   "source": [
    "# Number of observations left\n",
    "survey.info()"
   ]
  },
  {
   "cell_type": "code",
   "execution_count": 238,
   "metadata": {},
   "outputs": [
    {
     "data": {
      "text/html": [
       "<div>\n",
       "<style>\n",
       "    .dataframe thead tr:only-child th {\n",
       "        text-align: right;\n",
       "    }\n",
       "\n",
       "    .dataframe thead th {\n",
       "        text-align: left;\n",
       "    }\n",
       "\n",
       "    .dataframe tbody tr th {\n",
       "        vertical-align: top;\n",
       "    }\n",
       "</style>\n",
       "<table border=\"1\" class=\"dataframe\">\n",
       "  <thead>\n",
       "    <tr style=\"text-align: right;\">\n",
       "      <th></th>\n",
       "      <th>JobSatisfaction</th>\n",
       "      <th>Age</th>\n",
       "      <th>LearningCategorySelftTaught</th>\n",
       "      <th>LearningCategoryOnlineCourses</th>\n",
       "      <th>LearningCategoryWork</th>\n",
       "      <th>LearningCategoryUniversity</th>\n",
       "      <th>LearningCategoryKaggle</th>\n",
       "      <th>LearningCategoryOther</th>\n",
       "      <th>TimeGatheringData</th>\n",
       "      <th>TimeModelBuilding</th>\n",
       "      <th>TimeProduction</th>\n",
       "      <th>TimeVisualizing</th>\n",
       "      <th>TimeFindingInsights</th>\n",
       "      <th>TimeOtherSelect</th>\n",
       "      <th>CompensationAmount</th>\n",
       "    </tr>\n",
       "  </thead>\n",
       "  <tbody>\n",
       "    <tr>\n",
       "      <th>count</th>\n",
       "      <td>4771.000000</td>\n",
       "      <td>4771.000000</td>\n",
       "      <td>4771.000000</td>\n",
       "      <td>4771.000000</td>\n",
       "      <td>4771.000000</td>\n",
       "      <td>4771.000000</td>\n",
       "      <td>4771.000000</td>\n",
       "      <td>4771.000000</td>\n",
       "      <td>4771.000000</td>\n",
       "      <td>4771.000000</td>\n",
       "      <td>4771.000000</td>\n",
       "      <td>4771.000000</td>\n",
       "      <td>4771.000000</td>\n",
       "      <td>4771.000000</td>\n",
       "      <td>4.771000e+03</td>\n",
       "    </tr>\n",
       "    <tr>\n",
       "      <th>mean</th>\n",
       "      <td>6.747432</td>\n",
       "      <td>34.178369</td>\n",
       "      <td>33.271222</td>\n",
       "      <td>23.111402</td>\n",
       "      <td>20.284399</td>\n",
       "      <td>16.600189</td>\n",
       "      <td>5.277112</td>\n",
       "      <td>1.455677</td>\n",
       "      <td>37.414169</td>\n",
       "      <td>20.962377</td>\n",
       "      <td>10.960281</td>\n",
       "      <td>14.223748</td>\n",
       "      <td>13.657409</td>\n",
       "      <td>2.272270</td>\n",
       "      <td>2.372238e+07</td>\n",
       "    </tr>\n",
       "    <tr>\n",
       "      <th>std</th>\n",
       "      <td>2.145184</td>\n",
       "      <td>9.437994</td>\n",
       "      <td>24.577928</td>\n",
       "      <td>23.352728</td>\n",
       "      <td>19.774174</td>\n",
       "      <td>22.139384</td>\n",
       "      <td>10.273300</td>\n",
       "      <td>7.802879</td>\n",
       "      <td>20.792635</td>\n",
       "      <td>15.130699</td>\n",
       "      <td>12.058985</td>\n",
       "      <td>11.067081</td>\n",
       "      <td>12.290916</td>\n",
       "      <td>11.410166</td>\n",
       "      <td>1.448079e+09</td>\n",
       "    </tr>\n",
       "    <tr>\n",
       "      <th>min</th>\n",
       "      <td>1.000000</td>\n",
       "      <td>0.000000</td>\n",
       "      <td>0.000000</td>\n",
       "      <td>0.000000</td>\n",
       "      <td>0.000000</td>\n",
       "      <td>0.000000</td>\n",
       "      <td>0.000000</td>\n",
       "      <td>0.000000</td>\n",
       "      <td>0.000000</td>\n",
       "      <td>0.000000</td>\n",
       "      <td>0.000000</td>\n",
       "      <td>0.000000</td>\n",
       "      <td>0.000000</td>\n",
       "      <td>0.000000</td>\n",
       "      <td>1.040000e+04</td>\n",
       "    </tr>\n",
       "    <tr>\n",
       "      <th>25%</th>\n",
       "      <td>6.000000</td>\n",
       "      <td>27.000000</td>\n",
       "      <td>15.000000</td>\n",
       "      <td>5.000000</td>\n",
       "      <td>0.000000</td>\n",
       "      <td>0.000000</td>\n",
       "      <td>0.000000</td>\n",
       "      <td>0.000000</td>\n",
       "      <td>20.000000</td>\n",
       "      <td>10.000000</td>\n",
       "      <td>0.000000</td>\n",
       "      <td>10.000000</td>\n",
       "      <td>5.000000</td>\n",
       "      <td>0.000000</td>\n",
       "      <td>5.300000e+04</td>\n",
       "    </tr>\n",
       "    <tr>\n",
       "      <th>50%</th>\n",
       "      <td>7.000000</td>\n",
       "      <td>32.000000</td>\n",
       "      <td>30.000000</td>\n",
       "      <td>20.000000</td>\n",
       "      <td>20.000000</td>\n",
       "      <td>5.000000</td>\n",
       "      <td>0.000000</td>\n",
       "      <td>0.000000</td>\n",
       "      <td>40.000000</td>\n",
       "      <td>20.000000</td>\n",
       "      <td>10.000000</td>\n",
       "      <td>10.000000</td>\n",
       "      <td>10.000000</td>\n",
       "      <td>0.000000</td>\n",
       "      <td>1.000000e+05</td>\n",
       "    </tr>\n",
       "    <tr>\n",
       "      <th>75%</th>\n",
       "      <td>8.000000</td>\n",
       "      <td>39.000000</td>\n",
       "      <td>50.000000</td>\n",
       "      <td>30.000000</td>\n",
       "      <td>30.000000</td>\n",
       "      <td>30.000000</td>\n",
       "      <td>10.000000</td>\n",
       "      <td>0.000000</td>\n",
       "      <td>50.000000</td>\n",
       "      <td>30.000000</td>\n",
       "      <td>15.000000</td>\n",
       "      <td>20.000000</td>\n",
       "      <td>20.000000</td>\n",
       "      <td>0.000000</td>\n",
       "      <td>2.000000e+05</td>\n",
       "    </tr>\n",
       "    <tr>\n",
       "      <th>max</th>\n",
       "      <td>10.000000</td>\n",
       "      <td>100.000000</td>\n",
       "      <td>100.000000</td>\n",
       "      <td>100.000000</td>\n",
       "      <td>100.000000</td>\n",
       "      <td>100.000000</td>\n",
       "      <td>100.000000</td>\n",
       "      <td>100.000000</td>\n",
       "      <td>100.000000</td>\n",
       "      <td>100.000000</td>\n",
       "      <td>100.000000</td>\n",
       "      <td>100.000000</td>\n",
       "      <td>100.000000</td>\n",
       "      <td>100.000000</td>\n",
       "      <td>1.000000e+11</td>\n",
       "    </tr>\n",
       "  </tbody>\n",
       "</table>\n",
       "</div>"
      ],
      "text/plain": [
       "       JobSatisfaction          Age  LearningCategorySelftTaught  \\\n",
       "count      4771.000000  4771.000000                  4771.000000   \n",
       "mean          6.747432    34.178369                    33.271222   \n",
       "std           2.145184     9.437994                    24.577928   \n",
       "min           1.000000     0.000000                     0.000000   \n",
       "25%           6.000000    27.000000                    15.000000   \n",
       "50%           7.000000    32.000000                    30.000000   \n",
       "75%           8.000000    39.000000                    50.000000   \n",
       "max          10.000000   100.000000                   100.000000   \n",
       "\n",
       "       LearningCategoryOnlineCourses  LearningCategoryWork  \\\n",
       "count                    4771.000000           4771.000000   \n",
       "mean                       23.111402             20.284399   \n",
       "std                        23.352728             19.774174   \n",
       "min                         0.000000              0.000000   \n",
       "25%                         5.000000              0.000000   \n",
       "50%                        20.000000             20.000000   \n",
       "75%                        30.000000             30.000000   \n",
       "max                       100.000000            100.000000   \n",
       "\n",
       "       LearningCategoryUniversity  LearningCategoryKaggle  \\\n",
       "count                 4771.000000             4771.000000   \n",
       "mean                    16.600189                5.277112   \n",
       "std                     22.139384               10.273300   \n",
       "min                      0.000000                0.000000   \n",
       "25%                      0.000000                0.000000   \n",
       "50%                      5.000000                0.000000   \n",
       "75%                     30.000000               10.000000   \n",
       "max                    100.000000              100.000000   \n",
       "\n",
       "       LearningCategoryOther  TimeGatheringData  TimeModelBuilding  \\\n",
       "count            4771.000000        4771.000000        4771.000000   \n",
       "mean                1.455677          37.414169          20.962377   \n",
       "std                 7.802879          20.792635          15.130699   \n",
       "min                 0.000000           0.000000           0.000000   \n",
       "25%                 0.000000          20.000000          10.000000   \n",
       "50%                 0.000000          40.000000          20.000000   \n",
       "75%                 0.000000          50.000000          30.000000   \n",
       "max               100.000000         100.000000         100.000000   \n",
       "\n",
       "       TimeProduction  TimeVisualizing  TimeFindingInsights  TimeOtherSelect  \\\n",
       "count     4771.000000      4771.000000          4771.000000      4771.000000   \n",
       "mean        10.960281        14.223748            13.657409         2.272270   \n",
       "std         12.058985        11.067081            12.290916        11.410166   \n",
       "min          0.000000         0.000000             0.000000         0.000000   \n",
       "25%          0.000000        10.000000             5.000000         0.000000   \n",
       "50%         10.000000        10.000000            10.000000         0.000000   \n",
       "75%         15.000000        20.000000            20.000000         0.000000   \n",
       "max        100.000000       100.000000           100.000000       100.000000   \n",
       "\n",
       "       CompensationAmount  \n",
       "count        4.771000e+03  \n",
       "mean         2.372238e+07  \n",
       "std          1.448079e+09  \n",
       "min          1.040000e+04  \n",
       "25%          5.300000e+04  \n",
       "50%          1.000000e+05  \n",
       "75%          2.000000e+05  \n",
       "max          1.000000e+11  "
      ]
     },
     "execution_count": 238,
     "metadata": {},
     "output_type": "execute_result"
    }
   ],
   "source": [
    "# Why would 3 be to 16700?\n",
    "survey.describe()"
   ]
  },
  {
   "cell_type": "code",
   "execution_count": 239,
   "metadata": {},
   "outputs": [
    {
     "name": "stdout",
     "output_type": "stream",
     "text": [
      "6.747432404108153\n"
     ]
    },
    {
     "data": {
      "image/png": "[encoded data removed]",
      "text/plain": [
       "<matplotlib.figure.Figure at 0x17f8f57a0f0>"
      ]
     },
     "metadata": {},
     "output_type": "display_data"
    }
   ],
   "source": [
    "print(survey['JobSatisfaction'].mean())\n",
    "\n",
    "plt.hist(survey['JobSatisfaction'])\n",
    "plt.show()"
   ]
  },
  {
   "cell_type": "code",
   "execution_count": 240,
   "metadata": {},
   "outputs": [],
   "source": [
    "# Making JobSatisfaction into binary\n",
    "# This is necessary because JobSatisfaction is ordinal data\n",
    "survey['Satisfied'] = np.where(survey['JobSatisfaction']>7, 1, 0)\n",
    "\n",
    "# Dealing with multiple currencies in Compensation Amount\n",
    "currencies = pd.read_csv('conversionRates.csv')\n",
    "\n",
    "#Keep only useful variables\n",
    "currencies = currencies[['originCountry', 'exchangeRate']]\n",
    "\n",
    "#Left join to match CompensationCurrency and exchangeRates\n",
    "survey = pd.merge(survey, currencies, how='left',\n",
    "                  left_on='CompensationCurrency',\n",
    "                  right_on='originCountry')\n"
   ]
  },
  {
   "cell_type": "code",
   "execution_count": 241,
   "metadata": {},
   "outputs": [
    {
     "name": "stdout",
     "output_type": "stream",
     "text": [
      "1\n"
     ]
    }
   ],
   "source": [
    "# Convert to all compensation to USD\n",
    "survey['IncomeUSD'] = survey['CompensationAmount']*survey['exchangeRate']\n",
    "\n",
    "print(survey.IncomeUSD.isnull().sum())\n",
    "\n",
    "# One NaN to remove\n",
    "survey.dropna(inplace=True)"
   ]
  },
  {
   "cell_type": "code",
   "execution_count": 242,
   "metadata": {},
   "outputs": [
    {
     "data": {
      "text/html": [
       "<div>\n",
       "<style>\n",
       "    .dataframe thead tr:only-child th {\n",
       "        text-align: right;\n",
       "    }\n",
       "\n",
       "    .dataframe thead th {\n",
       "        text-align: left;\n",
       "    }\n",
       "\n",
       "    .dataframe tbody tr th {\n",
       "        vertical-align: top;\n",
       "    }\n",
       "</style>\n",
       "<table border=\"1\" class=\"dataframe\">\n",
       "  <thead>\n",
       "    <tr style=\"text-align: right;\">\n",
       "      <th></th>\n",
       "      <th>JobSatisfaction</th>\n",
       "      <th>Age</th>\n",
       "      <th>LearningCategorySelftTaught</th>\n",
       "      <th>LearningCategoryOnlineCourses</th>\n",
       "      <th>LearningCategoryWork</th>\n",
       "      <th>LearningCategoryUniversity</th>\n",
       "      <th>LearningCategoryKaggle</th>\n",
       "      <th>LearningCategoryOther</th>\n",
       "      <th>TimeGatheringData</th>\n",
       "      <th>TimeModelBuilding</th>\n",
       "      <th>TimeProduction</th>\n",
       "      <th>TimeVisualizing</th>\n",
       "      <th>TimeFindingInsights</th>\n",
       "      <th>TimeOtherSelect</th>\n",
       "      <th>CompensationAmount</th>\n",
       "      <th>CompensationCurrency</th>\n",
       "      <th>Satisfied</th>\n",
       "      <th>originCountry</th>\n",
       "      <th>exchangeRate</th>\n",
       "      <th>IncomeUSD</th>\n",
       "    </tr>\n",
       "  </thead>\n",
       "  <tbody>\n",
       "    <tr>\n",
       "      <th>0</th>\n",
       "      <td>10.0</td>\n",
       "      <td>56.0</td>\n",
       "      <td>30.0</td>\n",
       "      <td>0.0</td>\n",
       "      <td>40.0</td>\n",
       "      <td>30.0</td>\n",
       "      <td>0.0</td>\n",
       "      <td>0.0</td>\n",
       "      <td>50.0</td>\n",
       "      <td>20.0</td>\n",
       "      <td>0.0</td>\n",
       "      <td>10.0</td>\n",
       "      <td>20.0</td>\n",
       "      <td>0.0</td>\n",
       "      <td>250000.0</td>\n",
       "      <td>USD</td>\n",
       "      <td>1</td>\n",
       "      <td>USD</td>\n",
       "      <td>1.000000</td>\n",
       "      <td>250000.0</td>\n",
       "    </tr>\n",
       "    <tr>\n",
       "      <th>1</th>\n",
       "      <td>7.0</td>\n",
       "      <td>43.0</td>\n",
       "      <td>70.0</td>\n",
       "      <td>0.0</td>\n",
       "      <td>30.0</td>\n",
       "      <td>0.0</td>\n",
       "      <td>0.0</td>\n",
       "      <td>0.0</td>\n",
       "      <td>60.0</td>\n",
       "      <td>10.0</td>\n",
       "      <td>5.0</td>\n",
       "      <td>15.0</td>\n",
       "      <td>10.0</td>\n",
       "      <td>0.0</td>\n",
       "      <td>80000.0</td>\n",
       "      <td>AUD</td>\n",
       "      <td>0</td>\n",
       "      <td>AUD</td>\n",
       "      <td>0.802310</td>\n",
       "      <td>64184.8</td>\n",
       "    </tr>\n",
       "    <tr>\n",
       "      <th>2</th>\n",
       "      <td>7.0</td>\n",
       "      <td>33.0</td>\n",
       "      <td>10.0</td>\n",
       "      <td>70.0</td>\n",
       "      <td>15.0</td>\n",
       "      <td>0.0</td>\n",
       "      <td>5.0</td>\n",
       "      <td>0.0</td>\n",
       "      <td>40.0</td>\n",
       "      <td>30.0</td>\n",
       "      <td>15.0</td>\n",
       "      <td>10.0</td>\n",
       "      <td>5.0</td>\n",
       "      <td>0.0</td>\n",
       "      <td>1200000.0</td>\n",
       "      <td>RUB</td>\n",
       "      <td>0</td>\n",
       "      <td>RUB</td>\n",
       "      <td>0.017402</td>\n",
       "      <td>20882.4</td>\n",
       "    </tr>\n",
       "    <tr>\n",
       "      <th>3</th>\n",
       "      <td>7.0</td>\n",
       "      <td>27.0</td>\n",
       "      <td>10.0</td>\n",
       "      <td>0.0</td>\n",
       "      <td>30.0</td>\n",
       "      <td>40.0</td>\n",
       "      <td>0.0</td>\n",
       "      <td>20.0</td>\n",
       "      <td>30.0</td>\n",
       "      <td>20.0</td>\n",
       "      <td>10.0</td>\n",
       "      <td>10.0</td>\n",
       "      <td>30.0</td>\n",
       "      <td>0.0</td>\n",
       "      <td>95000.0</td>\n",
       "      <td>INR</td>\n",
       "      <td>0</td>\n",
       "      <td>INR</td>\n",
       "      <td>0.015620</td>\n",
       "      <td>1483.9</td>\n",
       "    </tr>\n",
       "    <tr>\n",
       "      <th>4</th>\n",
       "      <td>5.0</td>\n",
       "      <td>26.0</td>\n",
       "      <td>50.0</td>\n",
       "      <td>50.0</td>\n",
       "      <td>0.0</td>\n",
       "      <td>0.0</td>\n",
       "      <td>0.0</td>\n",
       "      <td>0.0</td>\n",
       "      <td>35.0</td>\n",
       "      <td>20.0</td>\n",
       "      <td>25.0</td>\n",
       "      <td>10.0</td>\n",
       "      <td>10.0</td>\n",
       "      <td>0.0</td>\n",
       "      <td>1100000.0</td>\n",
       "      <td>TWD</td>\n",
       "      <td>0</td>\n",
       "      <td>TWD</td>\n",
       "      <td>0.033304</td>\n",
       "      <td>36634.4</td>\n",
       "    </tr>\n",
       "  </tbody>\n",
       "</table>\n",
       "</div>"
      ],
      "text/plain": [
       "   JobSatisfaction   Age  LearningCategorySelftTaught  \\\n",
       "0             10.0  56.0                         30.0   \n",
       "1              7.0  43.0                         70.0   \n",
       "2              7.0  33.0                         10.0   \n",
       "3              7.0  27.0                         10.0   \n",
       "4              5.0  26.0                         50.0   \n",
       "\n",
       "   LearningCategoryOnlineCourses  LearningCategoryWork  \\\n",
       "0                            0.0                  40.0   \n",
       "1                            0.0                  30.0   \n",
       "2                           70.0                  15.0   \n",
       "3                            0.0                  30.0   \n",
       "4                           50.0                   0.0   \n",
       "\n",
       "   LearningCategoryUniversity  LearningCategoryKaggle  LearningCategoryOther  \\\n",
       "0                        30.0                     0.0                    0.0   \n",
       "1                         0.0                     0.0                    0.0   \n",
       "2                         0.0                     5.0                    0.0   \n",
       "3                        40.0                     0.0                   20.0   \n",
       "4                         0.0                     0.0                    0.0   \n",
       "\n",
       "   TimeGatheringData  TimeModelBuilding  TimeProduction  TimeVisualizing  \\\n",
       "0               50.0               20.0             0.0             10.0   \n",
       "1               60.0               10.0             5.0             15.0   \n",
       "2               40.0               30.0            15.0             10.0   \n",
       "3               30.0               20.0            10.0             10.0   \n",
       "4               35.0               20.0            25.0             10.0   \n",
       "\n",
       "   TimeFindingInsights  TimeOtherSelect  CompensationAmount  \\\n",
       "0                 20.0              0.0            250000.0   \n",
       "1                 10.0              0.0             80000.0   \n",
       "2                  5.0              0.0           1200000.0   \n",
       "3                 30.0              0.0             95000.0   \n",
       "4                 10.0              0.0           1100000.0   \n",
       "\n",
       "  CompensationCurrency  Satisfied originCountry  exchangeRate  IncomeUSD  \n",
       "0                  USD          1           USD      1.000000   250000.0  \n",
       "1                  AUD          0           AUD      0.802310    64184.8  \n",
       "2                  RUB          0           RUB      0.017402    20882.4  \n",
       "3                  INR          0           INR      0.015620     1483.9  \n",
       "4                  TWD          0           TWD      0.033304    36634.4  "
      ]
     },
     "execution_count": 242,
     "metadata": {},
     "output_type": "execute_result"
    }
   ],
   "source": [
    "survey.head()"
   ]
  },
  {
   "cell_type": "code",
   "execution_count": 243,
   "metadata": {},
   "outputs": [
    {
     "data": {
      "image/png": "[encoded data removed]",
      "text/plain": [
       "<matplotlib.figure.Figure at 0x17f8f515748>"
      ]
     },
     "metadata": {},
     "output_type": "display_data"
    }
   ],
   "source": [
    "sns.boxplot(survey.IncomeUSD)\n",
    "plt.show()"
   ]
  },
  {
   "cell_type": "code",
   "execution_count": 244,
   "metadata": {},
   "outputs": [],
   "source": [
    "# Three outliers to remove, one clearly a mistake and two of compensation >USD2.5m\n",
    "incomeoutlier = survey.IncomeUSD.max()\n",
    "survey = survey.loc[survey['IncomeUSD'] != incomeoutlier, :]\n",
    "incomeoutlier = survey.IncomeUSD.max()\n",
    "survey = survey.loc[survey['IncomeUSD'] != incomeoutlier, :]\n",
    "incomeoutlier = survey.IncomeUSD.max()\n",
    "survey = survey.loc[survey['IncomeUSD'] != incomeoutlier, :]"
   ]
  },
  {
   "cell_type": "code",
   "execution_count": 245,
   "metadata": {},
   "outputs": [
    {
     "data": {
      "image/png": "[encoded data removed]",
      "text/plain": [
       "<matplotlib.figure.Figure at 0x17f8fa4c5c0>"
      ]
     },
     "metadata": {},
     "output_type": "display_data"
    }
   ],
   "source": [
    "sns.boxplot(survey.IncomeUSD)\n",
    "plt.show()"
   ]
  },
  {
   "cell_type": "code",
   "execution_count": 246,
   "metadata": {},
   "outputs": [],
   "source": [
    "# Final step, train and test set\n",
    "# Drop varialbes not useful for OLS and KNN\n",
    "# Drop LearningCategoryOther and TimeOtherSelect - variables used to sum time to 100\n",
    "X = survey.drop(['originCountry', 'JobSatisfaction', 'CompensationCurrency',\n",
    "                 'exchangeRate','Satisfied', 'LearningCategoryOther',\n",
    "                 'TimeOtherSelect', 'CompensationAmount'], axis=1)\n",
    "y = survey[['Satisfied']]\n",
    "\n",
    "X_train, X_test, y_train, y_test = model_selection.train_test_split(X, y)"
   ]
  },
  {
   "cell_type": "markdown",
   "metadata": {},
   "source": [
    "## OLS"
   ]
  },
  {
   "cell_type": "code",
   "execution_count": 248,
   "metadata": {},
   "outputs": [
    {
     "data": {
      "image/png": "[encoded data removed]",
      "text/plain": [
       "<matplotlib.figure.Figure at 0x17f90bdd3c8>"
      ]
     },
     "metadata": {},
     "output_type": "display_data"
    }
   ],
   "source": [
    "corr = survey.drop(['originCountry', 'JobSatisfaction', 'CompensationCurrency',\n",
    "                    'LearningCategoryOther',\n",
    "                    'TimeOtherSelect', 'exchangeRate', 'CompensationAmount'], axis=1).corr()\n",
    "\n",
    "sns.heatmap(corr)\n",
    "plt.show()"
   ]
  },
  {
   "cell_type": "code",
   "execution_count": 249,
   "metadata": {
    "scrolled": true
   },
   "outputs": [
    {
     "data": {
      "image/png": "[encoded data removed]",
      "text/plain": [
       "<matplotlib.figure.Figure at 0x17f8f50e358>"
      ]
     },
     "metadata": {},
     "output_type": "display_data"
    }
   ],
   "source": [
    "sns.lmplot(x='Age', y='Satisfied', data=survey, ci=False, logistic=True, x_jitter=True)\n",
    "plt.show()"
   ]
  },
  {
   "cell_type": "code",
   "execution_count": 250,
   "metadata": {},
   "outputs": [
    {
     "data": {
      "image/png": "[encoded data removed]",
      "text/plain": [
       "<matplotlib.figure.Figure at 0x17f8b9c3d68>"
      ]
     },
     "metadata": {},
     "output_type": "display_data"
    },
    {
     "data": {
      "image/png": "[encoded data removed]",
      "text/plain": [
       "<matplotlib.figure.Figure at 0x17f8fb55320>"
      ]
     },
     "metadata": {},
     "output_type": "display_data"
    }
   ],
   "source": [
    "fig, ax = plt.subplots()\n",
    "sns.lmplot(x='IncomeUSD', y='Satisfied', data=survey, ci=False, logistic=True, x_jitter=True)\n",
    "plt.ticklabel_format(style='plain', axis='x')\n",
    "plt.xticks(rotation=45)\n",
    "plt.show()"
   ]
  },
  {
   "cell_type": "code",
   "execution_count": 253,
   "metadata": {},
   "outputs": [
    {
     "name": "stdout",
     "output_type": "stream",
     "text": [
      "{'C': 1.0, 'class_weight': None, 'dual': False, 'fit_intercept': True, 'intercept_scaling': 1, 'max_iter': 100, 'multi_class': 'ovr', 'n_jobs': 1, 'penalty': 'l2', 'random_state': None, 'solver': 'liblinear', 'tol': 0.0001, 'verbose': 0, 'warm_start': False} \n",
      "\n",
      "R2 is: 0.601118881119\n",
      "R2 on test set: 0.601510067114\n"
     ]
    },
    {
     "name": "stderr",
     "output_type": "stream",
     "text": [
      "C:\\Users\\User\\Anaconda3\\lib\\site-packages\\sklearn\\utils\\validation.py:526: DataConversionWarning: A column-vector y was passed when a 1d array was expected. Please change the shape of y to (n_samples, ), for example using ravel().\n",
      "  y = column_or_1d(y, warn=True)\n"
     ]
    }
   ],
   "source": [
    "# OLS\n",
    "\n",
    "from sklearn import linear_model\n",
    "\n",
    "#X_train\n",
    "ls = linear_model.LogisticRegression()\n",
    "ls.fit(X_train,y_train)\n",
    "r2 = ls.score(X_train, y_train)\n",
    "coef = ls.get_params()\n",
    "print(coef, '\\n')\n",
    "print(\"R2 is:\", r2)\n",
    "\n",
    "#X_test\n",
    "r2_test = ls.score(X_test, y_test)\n",
    "y_hat = ls.predict(X_test)\n",
    "print(\"R2 on test set:\", r2_test)"
   ]
  },
  {
   "cell_type": "code",
   "execution_count": 312,
   "metadata": {},
   "outputs": [
    {
     "name": "stdout",
     "output_type": "stream",
     "text": [
      "0.591357247745\n"
     ]
    }
   ],
   "source": [
    "ycounts = y.Satisfied.value_counts()\n",
    "print(ycounts[0]/ycounts.sum())"
   ]
  },
  {
   "cell_type": "markdown",
   "metadata": {},
   "source": [
    "So while the model has a much higher R2 than I expected it would have (there are lots of factors missing that are likely to be important to explain job satisfaction), it does only marginally better in predicting than assuming all people are unsatisfied (in which case you'll be right 59% of the time)."
   ]
  },
  {
   "cell_type": "markdown",
   "metadata": {},
   "source": [
    "## KNN"
   ]
  },
  {
   "cell_type": "code",
   "execution_count": 260,
   "metadata": {},
   "outputs": [],
   "source": [
    "# Normalise the distance\n",
    "from scipy.stats import zscore\n",
    "\n",
    "X_z = X.apply(zscore)\n",
    "\n",
    "#Split on X_z (have to split first then split - so OLS vs KNN comparison won't have same splits)\n",
    "X_train, X_test, y_train, y_test = model_selection.train_test_split(X_z, y)"
   ]
  },
  {
   "cell_type": "code",
   "execution_count": 288,
   "metadata": {},
   "outputs": [
    {
     "name": "stdout",
     "output_type": "stream",
     "text": [
      "R2 of training model: 0.230679470069\n",
      "R2 of test model: -0.16542315814\n"
     ]
    }
   ],
   "source": [
    "from sklearn import neighbors\n",
    "from sklearn import metrics\n",
    "\n",
    "knn = neighbors.KNeighborsRegressor(n_neighbors=5)\n",
    "knn.fit(X_train,y_train)\n",
    "r2_knn = knn.score(X_train, y_train)\n",
    "\n",
    "#Test\n",
    "r2_knn_test = knn.score(X_test, y_test)\n",
    "print(\"R2 of training model:\", r2_knn)\n",
    "print(\"R2 of test model:\", r2_knn_test)"
   ]
  },
  {
   "cell_type": "markdown",
   "metadata": {},
   "source": [
    "Okay, that's bad. But let's try *classifying* instead"
   ]
  },
  {
   "cell_type": "code",
   "execution_count": 309,
   "metadata": {},
   "outputs": [
    {
     "name": "stderr",
     "output_type": "stream",
     "text": [
      "C:\\Users\\User\\Anaconda3\\lib\\site-packages\\ipykernel_launcher.py:2: DataConversionWarning: A column-vector y was passed when a 1d array was expected. Please change the shape of y to (n_samples, ), for example using ravel().\n",
      "  \n"
     ]
    },
    {
     "name": "stdout",
     "output_type": "stream",
     "text": [
      "R2 of training model: 0.663776223776\n",
      "R2 of test model: 0.568791946309\n"
     ]
    }
   ],
   "source": [
    "knn = neighbors.KNeighborsClassifier(n_neighbors=10)\n",
    "knn.fit(X_train,y_train)\n",
    "r2_knn = knn.score(X_train, y_train)\n",
    "\n",
    "#Test\n",
    "pred = knn.predict(X_test)\n",
    "r2_knn_test = knn.score(X_test, y_test)\n",
    "print(\"R2 of training model:\", r2_knn)\n",
    "print(\"R2 of test model:\", r2_knn_test)"
   ]
  },
  {
   "cell_type": "markdown",
   "metadata": {},
   "source": [
    "This is an improvement, but it's still less accurate than always guessing 'not satisfied'. Maybe a better chosen k can help..."
   ]
  },
  {
   "cell_type": "code",
   "execution_count": 308,
   "metadata": {},
   "outputs": [
    {
     "data": {
      "text/plain": [
       "<matplotlib.text.Text at 0x17f8f52e7f0>"
      ]
     },
     "execution_count": 308,
     "metadata": {},
     "output_type": "execute_result"
    },
    {
     "data": {
      "image/png": "[encoded data removed]",
      "text/plain": [
       "<matplotlib.figure.Figure at 0x17f8f455438>"
      ]
     },
     "metadata": {},
     "output_type": "display_data"
    }
   ],
   "source": [
    "from sklearn import model_selection\n",
    "\n",
    "# creating odd list of K for KNN\n",
    "neighbornumber = list(range(1,51,2))\n",
    "\n",
    "# empty list that will hold cv scores\n",
    "cv_scores = []\n",
    "\n",
    "# Getting y into right dimension (n,)\n",
    "y_series = y.Satisfied\n",
    "\n",
    "# perform 10-fold cross validation\n",
    "for k in neighbornumber:\n",
    "    knn = neighbors.KNeighborsClassifier(n_neighbors=k)\n",
    "    scores = model_selection.cross_val_score(knn, X, y_series, cv=10, scoring='accuracy')\n",
    "    cv_scores.append(scores.mean())\n",
    "\n",
    "plt.plot(neighbornumber, cv_scores)\n",
    "plt.xlabel('Number of neighbors')\n",
    "plt.ylabel('Accuracy')"
   ]
  },
  {
   "cell_type": "markdown",
   "metadata": {},
   "source": [
    "## Conclusion\n",
    "\n",
    "So the kNN regression model does substantially worse than the OLS model. I'm not sure why the kNN model performs so poorly (it performs poorly even when changing n and adding weights). However, the kNN classifier has a similar accuracy to OLS, particularly using higher values of k. Neither of the models are particularly useful as predictors - they don't explain more than a simple model predicting any new observation as 'not satisfied'. \n",
    "\n",
    "From an *a priori* standpoint, the OLS here should perform reasonably well. It also allows one to investigate individual relationships between the feature and outcome (size and sign). Given that it is also a simpler model and easier to interpret this is the best model. However, it is still likely to have some bias:\n",
    "- There is some multicollinearity between the time spent variables (as they sum to 100) and also among skills learnt (also sum to 100). Dropping the 'other' categories here should help reduce some of the multicollinearity.\n",
    "- There is also likely to be omitted variable bias (there is a lot going into the error term include overall happiness - which also influences income and job satisfaction).\n"
   ]
  },
  {
   "cell_type": "code",
   "execution_count": null,
   "metadata": {
    "collapsed": true
   },
   "outputs": [],
   "source": []
  }
 ],
 "metadata": {
  "kernelspec": {
   "display_name": "Python 3",
   "language": "python",
   "name": "python3"
  },
  "language_info": {
   "codemirror_mode": {
    "name": "ipython",
    "version": 3
   },
   "file_extension": ".py",
   "mimetype": "text/x-python",
   "name": "python",
   "nbconvert_exporter": "python",
   "pygments_lexer": "ipython3",
   "version": "3.6.1"
  }
 },
 "nbformat": 4,
 "nbformat_minor": 2
}
